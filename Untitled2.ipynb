{
  "nbformat": 4,
  "nbformat_minor": 0,
  "metadata": {
    "colab": {
      "provenance": [],
      "authorship_tag": "ABX9TyNWq7zfAa9VZDRchWUtlZ2R",
      "include_colab_link": true
    },
    "kernelspec": {
      "name": "python3",
      "display_name": "Python 3"
    },
    "language_info": {
      "name": "python"
    }
  },
  "cells": [
    {
      "cell_type": "markdown",
      "metadata": {
        "id": "view-in-github",
        "colab_type": "text"
      },
      "source": [
        "<a href=\"https://colab.research.google.com/github/Rishit2403/summer-of-code-2024/blob/main/Untitled2.ipynb\" target=\"_parent\"><img src=\"https://colab.research.google.com/assets/colab-badge.svg\" alt=\"Open In Colab\"/></a>"
      ]
    },
    {
      "cell_type": "code",
      "source": [
        "!pip install scikeras"
      ],
      "metadata": {
        "colab": {
          "base_uri": "https://localhost:8080/"
        },
        "collapsed": true,
        "id": "0-cI5C4XvA3y",
        "outputId": "5a467dd5-805b-4382-ca02-fc86b0dd4e34"
      },
      "execution_count": null,
      "outputs": [
        {
          "output_type": "stream",
          "name": "stdout",
          "text": [
            "Collecting scikeras\n",
            "  Downloading scikeras-0.13.0-py3-none-any.whl.metadata (3.1 kB)\n",
            "Requirement already satisfied: keras>=3.2.0 in /usr/local/lib/python3.10/dist-packages (from scikeras) (3.4.1)\n",
            "Requirement already satisfied: scikit-learn>=1.4.2 in /usr/local/lib/python3.10/dist-packages (from scikeras) (1.5.2)\n",
            "Requirement already satisfied: absl-py in /usr/local/lib/python3.10/dist-packages (from keras>=3.2.0->scikeras) (1.4.0)\n",
            "Requirement already satisfied: numpy in /usr/local/lib/python3.10/dist-packages (from keras>=3.2.0->scikeras) (1.26.4)\n",
            "Requirement already satisfied: rich in /usr/local/lib/python3.10/dist-packages (from keras>=3.2.0->scikeras) (13.8.1)\n",
            "Requirement already satisfied: namex in /usr/local/lib/python3.10/dist-packages (from keras>=3.2.0->scikeras) (0.0.8)\n",
            "Requirement already satisfied: h5py in /usr/local/lib/python3.10/dist-packages (from keras>=3.2.0->scikeras) (3.11.0)\n",
            "Requirement already satisfied: optree in /usr/local/lib/python3.10/dist-packages (from keras>=3.2.0->scikeras) (0.12.1)\n",
            "Requirement already satisfied: ml-dtypes in /usr/local/lib/python3.10/dist-packages (from keras>=3.2.0->scikeras) (0.4.1)\n",
            "Requirement already satisfied: packaging in /usr/local/lib/python3.10/dist-packages (from keras>=3.2.0->scikeras) (24.1)\n",
            "Requirement already satisfied: scipy>=1.6.0 in /usr/local/lib/python3.10/dist-packages (from scikit-learn>=1.4.2->scikeras) (1.13.1)\n",
            "Requirement already satisfied: joblib>=1.2.0 in /usr/local/lib/python3.10/dist-packages (from scikit-learn>=1.4.2->scikeras) (1.4.2)\n",
            "Requirement already satisfied: threadpoolctl>=3.1.0 in /usr/local/lib/python3.10/dist-packages (from scikit-learn>=1.4.2->scikeras) (3.5.0)\n",
            "Requirement already satisfied: typing-extensions>=4.5.0 in /usr/local/lib/python3.10/dist-packages (from optree->keras>=3.2.0->scikeras) (4.12.2)\n",
            "Requirement already satisfied: markdown-it-py>=2.2.0 in /usr/local/lib/python3.10/dist-packages (from rich->keras>=3.2.0->scikeras) (3.0.0)\n",
            "Requirement already satisfied: pygments<3.0.0,>=2.13.0 in /usr/local/lib/python3.10/dist-packages (from rich->keras>=3.2.0->scikeras) (2.18.0)\n",
            "Requirement already satisfied: mdurl~=0.1 in /usr/local/lib/python3.10/dist-packages (from markdown-it-py>=2.2.0->rich->keras>=3.2.0->scikeras) (0.1.2)\n",
            "Downloading scikeras-0.13.0-py3-none-any.whl (26 kB)\n",
            "Installing collected packages: scikeras\n",
            "Successfully installed scikeras-0.13.0\n"
          ]
        }
      ]
    },
    {
      "cell_type": "code",
      "execution_count": null,
      "metadata": {
        "colab": {
          "base_uri": "https://localhost:8080/"
        },
        "id": "0GdEnXtM4gZ4",
        "outputId": "64f6d9b1-40c8-4b98-9aaf-fc78a79cb29b"
      },
      "outputs": [
        {
          "output_type": "stream",
          "name": "stderr",
          "text": [
            "[nltk_data] Downloading package punkt to /root/nltk_data...\n",
            "[nltk_data]   Package punkt is already up-to-date!\n"
          ]
        }
      ],
      "source": [
        "import nltk\n",
        "nltk.download('punkt')\n",
        "import pandas as pd\n",
        "import numpy as np\n",
        "from nltk.tokenize import word_tokenize\n",
        "from collections import defaultdict\n",
        "import tensorflow as tf\n",
        "from tensorflow.keras.layers import Embedding, LSTM, Dense, Embedding, Concatenate, Input, Dropout\n",
        "from tensorflow.keras.models import Sequential\n",
        "from tensorflow.keras.preprocessing.sequence import pad_sequences\n",
        "from sklearn.preprocessing import LabelEncoder\n",
        "from collections import Counter\n",
        "from tensorflow.keras.models import Model\n",
        "from sklearn.model_selection import train_test_split\n",
        "import csv\n",
        "from sklearn.model_selection import KFold\n",
        "from sklearn.metrics import accuracy_score\n",
        "from sklearn.model_selection import GridSearchCV\n",
        "from scikeras.wrappers import KerasClassifier\n",
        "from tensorflow.keras import backend as K"
      ]
    },
    {
      "cell_type": "code",
      "source": [
        "data=pd.read_csv('data.csv')\n",
        "test=pd.read_csv('test.csv')"
      ],
      "metadata": {
        "id": "NqJxhNx441j-"
      },
      "execution_count": null,
      "outputs": []
    },
    {
      "cell_type": "code",
      "source": [
        "all_occur=[]\n",
        "body_encoded=[]\n",
        "species_encoded=[]\n",
        "Label1=LabelEncoder()\n",
        "data['species_enc']=Label1.fit_transform(data['species'])\n",
        "c=0\n",
        "data['tokenized_text']=data['message'].apply(word_tokenize)\n",
        "for i in range(len(data['tokenized_text'])):\n",
        "  for j in range(len(data['tokenized_text'][i])):\n",
        "    all_occur.append(data['tokenized_text'][i][j])\n",
        "    h=[0]*10\n",
        "    h[data['species_enc'][i]]=1\n",
        "    species_encoded.append(h)\n",
        "    c=data['fingers'][i]\n",
        "    d=[]\n",
        "    if data['tail'][i]=='yes':\n",
        "      d=[1,0,c]\n",
        "    else:\n",
        "      d=[0,1,c]\n",
        "    body_encoded.append(d)\n",
        "body_encoded=tf.convert_to_tensor(body_encoded)\n",
        "species_encoded=tf.convert_to_tensor(species_encoded)\n",
        "print(np.shape(body_encoded))\n",
        "print(np.shape(species_encoded))"
      ],
      "metadata": {
        "colab": {
          "base_uri": "https://localhost:8080/"
        },
        "id": "UpFUejDi6hCh",
        "outputId": "404d275d-dc1f-4fb8-c5a1-aa855bc2c251"
      },
      "execution_count": null,
      "outputs": [
        {
          "output_type": "stream",
          "name": "stdout",
          "text": [
            "(2719, 3)\n",
            "(2719, 10)\n"
          ]
        }
      ]
    },
    {
      "cell_type": "code",
      "source": [
        "def create_vocabulary(tokenized_data):\n",
        "    vocabulary = defaultdict(lambda: len(vocabulary))\n",
        "    for sequence in tokenized_data:\n",
        "        for token in sequence:\n",
        "            vocabulary[token]\n",
        "    return vocabulary\n",
        "\n",
        "def encode_sequences(sequences, vocabulary):\n",
        "    encoded_data = [[vocabulary.get(word, 0) for word in sequence] for sequence in sequences]\n",
        "    return encoded_data"
      ],
      "metadata": {
        "id": "DKRV_em08cmZ"
      },
      "execution_count": null,
      "outputs": []
    },
    {
      "cell_type": "code",
      "source": [
        "letter_slit=[]\n",
        "vocabulary=create_vocabulary(data['tokenized_text'])\n",
        "for j in all_occur:\n",
        "  d=list(([0]*26 for g in range(8)))\n",
        "  f=list(j)\n",
        "  for i in range(len(f)):\n",
        "    d[i][ord(f[i])-97]=1\n",
        "  letter_slit.append(d)\n",
        "letter_slit=tf.convert_to_tensor(letter_slit)\n",
        "print(np.shape(letter_slit))\n"
      ],
      "metadata": {
        "colab": {
          "base_uri": "https://localhost:8080/"
        },
        "id": "JVueIpT38t1X",
        "outputId": "1a03facf-a8f5-443f-fbf4-7d2fb1fbaa8c"
      },
      "execution_count": null,
      "outputs": [
        {
          "output_type": "stream",
          "name": "stdout",
          "text": [
            "(2719, 8, 26)\n"
          ]
        }
      ]
    },
    {
      "cell_type": "code",
      "source": [
        "# Assuming letter_slit and body_encoded are your two input tensors\n",
        "\n",
        "# 1. Create indices for splitting:\n",
        "indices = np.arange(letter_slit.shape[0])  # Get indices of samples\n",
        "train_indices, test_indices = train_test_split(indices, test_size=0.2, random_state=42)\n",
        "\n",
        "# 2. Convert NumPy indices to TensorFlow tensors:\n",
        "train_indices = tf.constant(train_indices)\n",
        "test_indices = tf.constant(test_indices)\n",
        "\n",
        "# 3. Split each input tensor using the indices:\n",
        "X_train1 = tf.gather(letter_slit, train_indices) # Use tf.gather for indexing\n",
        "X_test1 = tf.gather(letter_slit, test_indices)\n",
        "\n",
        "X_train2 = tf.gather(body_encoded, train_indices)\n",
        "X_test2 = tf.gather(body_encoded, test_indices)\n",
        "\n",
        "# 4. Split the target variable (species_encoded) using the same indices:\n",
        "y_train = tf.gather(species_encoded, train_indices)\n",
        "y_test = tf.gather(species_encoded, test_indices)"
      ],
      "metadata": {
        "id": "lQ4xzeEaewkO"
      },
      "execution_count": null,
      "outputs": []
    },
    {
      "cell_type": "code",
      "source": [
        "def create_model(lstm_units=64, dense_units=64, dropout_rate=0.5, learning_rate=0.01):\n",
        "    input1=Input(shape=(8,26))\n",
        "    input2=Input(shape=(3,))\n",
        "    seq=LSTM(units=lstm_units, dropout=0.2, recurrent_dropout=0.2)(input1)\n",
        "    den=Dense(units=dense_units,activation='relu')(input2)\n",
        "    merge=Concatenate()([seq,den])\n",
        "    op1=Dense(units=dense_units,activation='relu')(merge)\n",
        "    op1=Dropout(dropout_rate)(op1)\n",
        "    op2=Dense(units=dense_units,activation='relu')(op1)\n",
        "    op3=Dense(10,activation='softmax')(op2)\n",
        "    model=Model(inputs=[input1,input2],outputs=op3)\n",
        "    model.compile(optimizer='adam',loss='categorical_crossentropy',metrics=['accuracy'])\n",
        "    return model"
      ],
      "metadata": {
        "id": "3r9FwXeNsWkG"
      },
      "execution_count": null,
      "outputs": []
    },
    {
      "cell_type": "code",
      "source": [
        "print(np.shape(X_train1))\n",
        "print(np.shape(X_train2))"
      ],
      "metadata": {
        "colab": {
          "base_uri": "https://localhost:8080/"
        },
        "id": "6n3bFennR1zs",
        "outputId": "1466ff59-cc88-4de8-ca6b-01af44ab1a99"
      },
      "execution_count": null,
      "outputs": [
        {
          "output_type": "stream",
          "name": "stdout",
          "text": [
            "(2175, 8, 26)\n",
            "(2175, 3)\n"
          ]
        }
      ]
    },
    {
      "cell_type": "code",
      "source": [
        "k = 5  # Number of folds\n",
        "kf = KFold(n_splits=k, shuffle=True, random_state=42)\n",
        "scores=[]\n",
        "num_samples = letter_slit.shape[0]  # Assuming X1 and X2 have the same number of samples\n",
        "indices = np.arange(num_samples)\n",
        "\n",
        "for train_index, val_index in kf.split(indices):\n",
        "    train_index = tf.constant(train_index)\n",
        "    val_index = tf.constant(val_index)\n",
        "    X1_train = tf.gather(letter_slit, train_index)\n",
        "    X1_val = tf.gather(letter_slit, val_index)\n",
        "    X2_train = tf.gather(body_encoded, train_index)\n",
        "    X2_val = tf.gather(body_encoded, val_index)\n",
        "    y_train = tf.gather(species_encoded, train_index)\n",
        "    y_val = tf.gather(species_encoded, val_index)\n",
        "    model = create_model(lstm_units=64, dense_units=64, dropout_rate=0.3)\n",
        "    model.fit([X1_train, X2_train], y_train, epochs=50, batch_size=32, verbose=0, validation_data=([X1_val,X2_val],y_val))\n",
        "\n",
        "    # 5. Evaluate the model:\n",
        "    y_pred = model.predict([X1_val, X2_val])\n",
        "    score = accuracy_score(np.argmax(y_val, axis=1), np.argmax(y_pred, axis=1))\n",
        "    scores.append(score)\n",
        "print(scores)\n",
        "print(np.mean(scores))"
      ],
      "metadata": {
        "colab": {
          "base_uri": "https://localhost:8080/"
        },
        "id": "Q_06m-xAhOjx",
        "outputId": "8f320061-b39b-4a81-c67c-13f9e82f7d88"
      },
      "execution_count": null,
      "outputs": [
        {
          "output_type": "stream",
          "name": "stdout",
          "text": [
            "\u001b[1m17/17\u001b[0m \u001b[32m━━━━━━━━━━━━━━━━━━━━\u001b[0m\u001b[37m\u001b[0m \u001b[1m0s\u001b[0m 4ms/step\n",
            "\u001b[1m17/17\u001b[0m \u001b[32m━━━━━━━━━━━━━━━━━━━━\u001b[0m\u001b[37m\u001b[0m \u001b[1m0s\u001b[0m 4ms/step\n",
            "\u001b[1m17/17\u001b[0m \u001b[32m━━━━━━━━━━━━━━━━━━━━\u001b[0m\u001b[37m\u001b[0m \u001b[1m0s\u001b[0m 4ms/step\n",
            "\u001b[1m17/17\u001b[0m \u001b[32m━━━━━━━━━━━━━━━━━━━━\u001b[0m\u001b[37m\u001b[0m \u001b[1m0s\u001b[0m 4ms/step\n",
            "\u001b[1m17/17\u001b[0m \u001b[32m━━━━━━━━━━━━━━━━━━━━\u001b[0m\u001b[37m\u001b[0m \u001b[1m1s\u001b[0m 20ms/step\n",
            "[0.8345588235294118, 0.8143382352941176, 0.8161764705882353, 0.8253676470588235, 0.860036832412523]\n",
            "0.8300956017766221\n"
          ]
        }
      ]
    },
    {
      "cell_type": "code",
      "source": [
        "all_occur_test=[]\n",
        "body_encoded_test=[]\n",
        "c=0\n",
        "test['tokenized_text']=test['message'].apply(word_tokenize)\n",
        "for i in range(len(test['tokenized_text'])):\n",
        "  for j in range(len(test['tokenized_text'][i])):\n",
        "    all_occur_test.append(test['tokenized_text'][i][j])\n",
        "    c=test['fingers'][i]\n",
        "    d=[]\n",
        "    if test['tail'][i]=='yes':\n",
        "      d=[1,0,c]\n",
        "    else:\n",
        "      d=[0,1,c]\n",
        "    body_encoded_test.append(d)\n",
        "body_encoded_test=tf.convert_to_tensor(body_encoded_test)\n",
        "letter_slit_test=[]\n",
        "vocabulary_test=create_vocabulary(test['tokenized_text'])\n",
        "for j in all_occur_test:\n",
        "  d=list(([0]*26 for g in range(8)))\n",
        "  f=list(j)\n",
        "  for i in range(len(f)):\n",
        "    d[i][ord(f[i])-97]=1\n",
        "  letter_slit_test.append(d)\n",
        "letter_slit_test=tf.convert_to_tensor(letter_slit_test)\n",
        "print(np.shape(letter_slit_test))\n",
        "test_species_enc=model.predict([letter_slit_test,body_encoded_test])\n",
        "for i in range(len(test_species_enc)):\n",
        "  for j in range(len(test_species_enc[i])):\n",
        "    if test_species_enc[i][j]>0.5:\n",
        "      test_species_enc[i][j]=int(1)\n",
        "    else:\n",
        "      test_species_enc[i][j]=int(0)\n",
        "species_op=[]\n",
        "for i in test_species_enc:\n",
        "  species_op.append(str(Label1.inverse_transform([np.argmax(i)])[0]))\n",
        "print(test_species_enc[0][7])\n",
        "print(species_op)"
      ],
      "metadata": {
        "colab": {
          "base_uri": "https://localhost:8080/"
        },
        "id": "ebzaIXM1iv1n",
        "outputId": "69783e2d-869c-4c98-c1ab-c4d700c8f11a"
      },
      "execution_count": null,
      "outputs": [
        {
          "output_type": "stream",
          "name": "stdout",
          "text": [
            "(1628, 8, 26)\n",
            "\u001b[1m51/51\u001b[0m \u001b[32m━━━━━━━━━━━━━━━━━━━━\u001b[0m\u001b[37m\u001b[0m \u001b[1m0s\u001b[0m 4ms/step\n",
            "0.0\n",
            "['Aquari', 'Aquari', 'Aquari', 'Aquari', 'Aquari', 'Aquari', 'Sentire', 'Aquari', 'Sentire', 'Aquari', 'Sentire', 'Sentire', 'Florian', 'Aquari', 'Aquari', 'Faerix', 'Faerix', 'Faerix', 'Faerix', 'Faerix', 'Faerix', 'Faerix', 'Mythron', 'Mythron', 'Mythron', 'Mythron', 'Mythron', 'Mythron', 'Mythron', 'Mythron', 'Faerix', 'Faerix', 'Faerix', 'Faerix', 'Faerix', 'Faerix', 'Faerix', 'Faerix', 'Faerix', 'Faerix', 'Faerix', 'Faerix', 'Faerix', 'Emotivor', 'Emotivor', 'Emotivor', 'Florian', 'Florian', 'Florian', 'Florian', 'Florian', 'Florian', 'Florian', 'Florian', 'Mythron', 'Mythron', 'Mythron', 'Emotivor', 'Emotivor', 'Emotivor', 'Emotivor', 'Emotivor', 'Zorblax', 'Zorblax', 'Zorblax', 'Quixnar', 'Quixnar', 'Quixnar', 'Quixnar', 'Quixnar', 'Quixnar', 'Quixnar', 'Quixnar', 'Aquari', 'Mythron', 'Mythron', 'Mythron', 'Mythron', 'Mythron', 'Aquari', 'Aquari', 'Aquari', 'Aquari', 'Aquari', 'Aquari', 'Aquari', 'Aquari', 'Florian', 'Florian', 'Aquari', 'Florian', 'Florian', 'Aquari', 'Aquari', 'Nexoon', 'Aquari', 'Nexoon', 'Aquari', 'Aquari', 'Aquari', 'Aquari', 'Aquari', 'Aquari', 'Aquari', 'Aquari', 'Aquari', 'Zorblax', 'Zorblax', 'Zorblax', 'Zorblax', 'Zorblax', 'Zorblax', 'Zorblax', 'Emotivor', 'Emotivor', 'Emotivor', 'Emotivor', 'Emotivor', 'Emotivor', 'Emotivor', 'Emotivor', 'Quixnar', 'Quixnar', 'Quixnar', 'Quixnar', 'Quixnar', 'Quixnar', 'Nexoon', 'Nexoon', 'Nexoon', 'Mythron', 'Mythron', 'Mythron', 'Mythron', 'Nexoon', 'Nexoon', 'Nexoon', 'Nexoon', 'Nexoon', 'Nexoon', 'Aquari', 'Aquari', 'Aquari', 'Aquari', 'Sentire', 'Aquari', 'Sentire', 'Sentire', 'Sentire', 'Sentire', 'Sentire', 'Sentire', 'Sentire', 'Sentire', 'Sentire', 'Sentire', 'Sentire', 'Sentire', 'Mythron', 'Mythron', 'Mythron', 'Mythron', 'Mythron', 'Mythron', 'Mythron', 'Mythron', 'Emotivor', 'Cybex', 'Cybex', 'Cybex', 'Cybex', 'Cybex', 'Emotivor', 'Emotivor', 'Emotivor', 'Emotivor', 'Emotivor', 'Emotivor', 'Emotivor', 'Mythron', 'Mythron', 'Mythron', 'Mythron', 'Mythron', 'Mythron', 'Mythron', 'Aquari', 'Sentire', 'Sentire', 'Faerix', 'Faerix', 'Faerix', 'Faerix', 'Faerix', 'Faerix', 'Faerix', 'Emotivor', 'Emotivor', 'Emotivor', 'Emotivor', 'Aquari', 'Aquari', 'Aquari', 'Aquari', 'Aquari', 'Florian', 'Nexoon', 'Florian', 'Aquari', 'Aquari', 'Aquari', 'Aquari', 'Aquari', 'Aquari', 'Aquari', 'Quixnar', 'Quixnar', 'Quixnar', 'Aquari', 'Quixnar', 'Quixnar', 'Quixnar', 'Emotivor', 'Emotivor', 'Emotivor', 'Emotivor', 'Quixnar', 'Quixnar', 'Quixnar', 'Quixnar', 'Quixnar', 'Quixnar', 'Quixnar', 'Mythron', 'Mythron', 'Mythron', 'Aquari', 'Nexoon', 'Aquari', 'Nexoon', 'Nexoon', 'Nexoon', 'Nexoon', 'Aquari', 'Aquari', 'Aquari', 'Aquari', 'Aquari', 'Aquari', 'Sentire', 'Emotivor', 'Emotivor', 'Sentire', 'Emotivor', 'Sentire', 'Emotivor', 'Aquari', 'Quixnar', 'Quixnar', 'Quixnar', 'Zorblax', 'Quixnar', 'Quixnar', 'Quixnar', 'Quixnar', 'Quixnar', 'Quixnar', 'Quixnar', 'Zorblax', 'Zorblax', 'Zorblax', 'Zorblax', 'Zorblax', 'Zorblax', 'Nexoon', 'Zorblax', 'Florian', 'Florian', 'Florian', 'Aquari', 'Florian', 'Florian', 'Florian', 'Emotivor', 'Emotivor', 'Zorblax', 'Zorblax', 'Zorblax', 'Zorblax', 'Sentire', 'Sentire', 'Sentire', 'Quixnar', 'Quixnar', 'Quixnar', 'Emotivor', 'Emotivor', 'Emotivor', 'Emotivor', 'Emotivor', 'Emotivor', 'Emotivor', 'Aquari', 'Emotivor', 'Emotivor', 'Sentire', 'Sentire', 'Sentire', 'Sentire', 'Sentire', 'Mythron', 'Sentire', 'Emotivor', 'Emotivor', 'Emotivor', 'Emotivor', 'Emotivor', 'Mythron', 'Mythron', 'Mythron', 'Mythron', 'Aquari', 'Nexoon', 'Nexoon', 'Quixnar', 'Aquari', 'Nexoon', 'Nexoon', 'Nexoon', 'Cybex', 'Cybex', 'Cybex', 'Cybex', 'Cybex', 'Cybex', 'Cybex', 'Faerix', 'Aquari', 'Mythron', 'Faerix', 'Aquari', 'Faerix', 'Faerix', 'Aquari', 'Faerix', 'Aquari', 'Sentire', 'Faerix', 'Aquari', 'Sentire', 'Sentire', 'Sentire', 'Sentire', 'Sentire', 'Mythron', 'Mythron', 'Mythron', 'Mythron', 'Mythron', 'Mythron', 'Sentire', 'Sentire', 'Sentire', 'Sentire', 'Sentire', 'Sentire', 'Faerix', 'Faerix', 'Faerix', 'Faerix', 'Faerix', 'Faerix', 'Faerix', 'Faerix', 'Nexoon', 'Nexoon', 'Nexoon', 'Nexoon', 'Nexoon', 'Nexoon', 'Nexoon', 'Quixnar', 'Quixnar', 'Quixnar', 'Quixnar', 'Aquari', 'Quixnar', 'Quixnar', 'Quixnar', 'Quixnar', 'Emotivor', 'Emotivor', 'Emotivor', 'Emotivor', 'Emotivor', 'Emotivor', 'Cybex', 'Sentire', 'Aquari', 'Sentire', 'Sentire', 'Sentire', 'Sentire', 'Zorblax', 'Zorblax', 'Zorblax', 'Zorblax', 'Zorblax', 'Emotivor', 'Emotivor', 'Emotivor', 'Emotivor', 'Emotivor', 'Sentire', 'Aquari', 'Sentire', 'Sentire', 'Sentire', 'Sentire', 'Sentire', 'Sentire', 'Cybex', 'Cybex', 'Cybex', 'Cybex', 'Cybex', 'Faerix', 'Mythron', 'Faerix', 'Faerix', 'Faerix', 'Nexoon', 'Aquari', 'Nexoon', 'Aquari', 'Nexoon', 'Aquari', 'Aquari', 'Emotivor', 'Emotivor', 'Emotivor', 'Emotivor', 'Emotivor', 'Emotivor', 'Emotivor', 'Emotivor', 'Emotivor', 'Emotivor', 'Emotivor', 'Cybex', 'Cybex', 'Cybex', 'Cybex', 'Emotivor', 'Emotivor', 'Emotivor', 'Emotivor', 'Aquari', 'Aquari', 'Aquari', 'Aquari', 'Faerix', 'Aquari', 'Aquari', 'Nexoon', 'Nexoon', 'Aquari', 'Nexoon', 'Nexoon', 'Nexoon', 'Nexoon', 'Sentire', 'Sentire', 'Sentire', 'Sentire', 'Sentire', 'Sentire', 'Sentire', 'Sentire', 'Faerix', 'Faerix', 'Faerix', 'Faerix', 'Faerix', 'Zorblax', 'Zorblax', 'Zorblax', 'Zorblax', 'Zorblax', 'Zorblax', 'Nexoon', 'Nexoon', 'Nexoon', 'Nexoon', 'Nexoon', 'Aquari', 'Faerix', 'Faerix', 'Faerix', 'Faerix', 'Sentire', 'Sentire', 'Sentire', 'Sentire', 'Sentire', 'Sentire', 'Sentire', 'Faerix', 'Faerix', 'Faerix', 'Faerix', 'Aquari', 'Aquari', 'Nexoon', 'Nexoon', 'Aquari', 'Nexoon', 'Quixnar', 'Quixnar', 'Quixnar', 'Quixnar', 'Sentire', 'Aquari', 'Sentire', 'Sentire', 'Sentire', 'Sentire', 'Florian', 'Florian', 'Florian', 'Mythron', 'Mythron', 'Mythron', 'Mythron', 'Nexoon', 'Nexoon', 'Zorblax', 'Emotivor', 'Emotivor', 'Emotivor', 'Emotivor', 'Emotivor', 'Aquari', 'Aquari', 'Mythron', 'Aquari', 'Mythron', 'Faerix', 'Florian', 'Florian', 'Florian', 'Sentire', 'Sentire', 'Sentire', 'Sentire', 'Sentire', 'Sentire', 'Sentire', 'Sentire', 'Sentire', 'Sentire', 'Sentire', 'Aquari', 'Aquari', 'Aquari', 'Aquari', 'Aquari', 'Aquari', 'Aquari', 'Aquari', 'Aquari', 'Nexoon', 'Nexoon', 'Nexoon', 'Nexoon', 'Aquari', 'Quixnar', 'Quixnar', 'Aquari', 'Aquari', 'Aquari', 'Aquari', 'Aquari', 'Aquari', 'Emotivor', 'Quixnar', 'Quixnar', 'Quixnar', 'Quixnar', 'Quixnar', 'Quixnar', 'Quixnar', 'Emotivor', 'Emotivor', 'Emotivor', 'Emotivor', 'Emotivor', 'Emotivor', 'Emotivor', 'Sentire', 'Sentire', 'Sentire', 'Mythron', 'Zorblax', 'Mythron', 'Mythron', 'Mythron', 'Mythron', 'Mythron', 'Mythron', 'Quixnar', 'Aquari', 'Aquari', 'Aquari', 'Aquari', 'Aquari', 'Mythron', 'Mythron', 'Mythron', 'Mythron', 'Mythron', 'Mythron', 'Aquari', 'Aquari', 'Aquari', 'Aquari', 'Aquari', 'Faerix', 'Faerix', 'Faerix', 'Faerix', 'Faerix', 'Mythron', 'Mythron', 'Mythron', 'Mythron', 'Mythron', 'Mythron', 'Cybex', 'Cybex', 'Cybex', 'Faerix', 'Faerix', 'Faerix', 'Faerix', 'Quixnar', 'Quixnar', 'Quixnar', 'Quixnar', 'Quixnar', 'Mythron', 'Mythron', 'Mythron', 'Sentire', 'Mythron', 'Sentire', 'Sentire', 'Sentire', 'Sentire', 'Sentire', 'Sentire', 'Cybex', 'Cybex', 'Cybex', 'Cybex', 'Cybex', 'Aquari', 'Aquari', 'Aquari', 'Aquari', 'Aquari', 'Aquari', 'Aquari', 'Quixnar', 'Quixnar', 'Quixnar', 'Quixnar', 'Florian', 'Florian', 'Florian', 'Cybex', 'Cybex', 'Cybex', 'Cybex', 'Cybex', 'Cybex', 'Cybex', 'Florian', 'Florian', 'Florian', 'Quixnar', 'Quixnar', 'Quixnar', 'Quixnar', 'Zorblax', 'Zorblax', 'Zorblax', 'Zorblax', 'Zorblax', 'Zorblax', 'Nexoon', 'Aquari', 'Aquari', 'Quixnar', 'Quixnar', 'Quixnar', 'Aquari', 'Faerix', 'Faerix', 'Faerix', 'Faerix', 'Faerix', 'Faerix', 'Aquari', 'Aquari', 'Aquari', 'Aquari', 'Aquari', 'Aquari', 'Aquari', 'Sentire', 'Sentire', 'Sentire', 'Sentire', 'Sentire', 'Sentire', 'Sentire', 'Emotivor', 'Emotivor', 'Emotivor', 'Cybex', 'Cybex', 'Cybex', 'Cybex', 'Cybex', 'Cybex', 'Cybex', 'Sentire', 'Sentire', 'Sentire', 'Nexoon', 'Nexoon', 'Nexoon', 'Nexoon', 'Nexoon', 'Mythron', 'Mythron', 'Mythron', 'Mythron', 'Mythron', 'Cybex', 'Cybex', 'Cybex', 'Cybex', 'Emotivor', 'Emotivor', 'Emotivor', 'Emotivor', 'Emotivor', 'Emotivor', 'Aquari', 'Aquari', 'Aquari', 'Aquari', 'Aquari', 'Sentire', 'Sentire', 'Sentire', 'Sentire', 'Sentire', 'Sentire', 'Quixnar', 'Aquari', 'Zorblax', 'Florian', 'Florian', 'Florian', 'Florian', 'Emotivor', 'Emotivor', 'Emotivor', 'Emotivor', 'Mythron', 'Mythron', 'Mythron', 'Aquari', 'Aquari', 'Aquari', 'Aquari', 'Aquari', 'Nexoon', 'Nexoon', 'Nexoon', 'Nexoon', 'Nexoon', 'Nexoon', 'Aquari', 'Aquari', 'Aquari', 'Florian', 'Cybex', 'Aquari', 'Nexoon', 'Cybex', 'Aquari', 'Aquari', 'Aquari', 'Emotivor', 'Emotivor', 'Emotivor', 'Emotivor', 'Emotivor', 'Emotivor', 'Emotivor', 'Emotivor', 'Aquari', 'Aquari', 'Aquari', 'Aquari', 'Aquari', 'Sentire', 'Sentire', 'Sentire', 'Sentire', 'Aquari', 'Aquari', 'Aquari', 'Aquari', 'Aquari', 'Aquari', 'Sentire', 'Sentire', 'Sentire', 'Sentire', 'Sentire', 'Sentire', 'Florian', 'Florian', 'Florian', 'Florian', 'Florian', 'Florian', 'Florian', 'Florian', 'Emotivor', 'Emotivor', 'Aquari', 'Emotivor', 'Emotivor', 'Emotivor', 'Emotivor', 'Emotivor', 'Sentire', 'Aquari', 'Aquari', 'Aquari', 'Aquari', 'Aquari', 'Aquari', 'Aquari', 'Nexoon', 'Aquari', 'Nexoon', 'Nexoon', 'Aquari', 'Nexoon', 'Nexoon', 'Cybex', 'Cybex', 'Cybex', 'Cybex', 'Cybex', 'Cybex', 'Cybex', 'Nexoon', 'Nexoon', 'Nexoon', 'Sentire', 'Emotivor', 'Emotivor', 'Emotivor', 'Emotivor', 'Aquari', 'Aquari', 'Aquari', 'Cybex', 'Cybex', 'Cybex', 'Cybex', 'Mythron', 'Mythron', 'Mythron', 'Mythron', 'Mythron', 'Mythron', 'Cybex', 'Cybex', 'Cybex', 'Cybex', 'Cybex', 'Cybex', 'Cybex', 'Cybex', 'Mythron', 'Mythron', 'Mythron', 'Mythron', 'Mythron', 'Aquari', 'Mythron', 'Sentire', 'Sentire', 'Sentire', 'Sentire', 'Quixnar', 'Sentire', 'Zorblax', 'Zorblax', 'Zorblax', 'Zorblax', 'Zorblax', 'Emotivor', 'Cybex', 'Emotivor', 'Emotivor', 'Cybex', 'Cybex', 'Cybex', 'Cybex', 'Cybex', 'Cybex', 'Sentire', 'Aquari', 'Quixnar', 'Sentire', 'Aquari', 'Sentire', 'Sentire', 'Florian', 'Florian', 'Florian', 'Florian', 'Sentire', 'Aquari', 'Sentire', 'Aquari', 'Sentire', 'Sentire', 'Florian', 'Florian', 'Florian', 'Florian', 'Emotivor', 'Emotivor', 'Emotivor', 'Emotivor', 'Emotivor', 'Emotivor', 'Emotivor', 'Emotivor', 'Quixnar', 'Quixnar', 'Aquari', 'Aquari', 'Aquari', 'Aquari', 'Faerix', 'Faerix', 'Faerix', 'Faerix', 'Faerix', 'Faerix', 'Faerix', 'Faerix', 'Faerix', 'Faerix', 'Faerix', 'Faerix', 'Faerix', 'Faerix', 'Aquari', 'Aquari', 'Aquari', 'Aquari', 'Emotivor', 'Emotivor', 'Emotivor', 'Emotivor', 'Emotivor', 'Cybex', 'Cybex', 'Aquari', 'Cybex', 'Nexoon', 'Nexoon', 'Aquari', 'Nexoon', 'Quixnar', 'Quixnar', 'Quixnar', 'Sentire', 'Sentire', 'Sentire', 'Zorblax', 'Zorblax', 'Zorblax', 'Zorblax', 'Zorblax', 'Zorblax', 'Mythron', 'Zorblax', 'Mythron', 'Mythron', 'Mythron', 'Mythron', 'Mythron', 'Mythron', 'Mythron', 'Mythron', 'Zorblax', 'Zorblax', 'Zorblax', 'Zorblax', 'Zorblax', 'Zorblax', 'Zorblax', 'Zorblax', 'Cybex', 'Cybex', 'Cybex', 'Cybex', 'Cybex', 'Cybex', 'Cybex', 'Cybex', 'Cybex', 'Cybex', 'Cybex', 'Cybex', 'Cybex', 'Cybex', 'Cybex', 'Mythron', 'Mythron', 'Mythron', 'Mythron', 'Mythron', 'Mythron', 'Mythron', 'Faerix', 'Faerix', 'Faerix', 'Aquari', 'Aquari', 'Aquari', 'Aquari', 'Nexoon', 'Nexoon', 'Nexoon', 'Nexoon', 'Nexoon', 'Nexoon', 'Nexoon', 'Nexoon', 'Nexoon', 'Cybex', 'Aquari', 'Faerix', 'Faerix', 'Faerix', 'Faerix', 'Sentire', 'Sentire', 'Sentire', 'Zorblax', 'Sentire', 'Sentire', 'Sentire', 'Florian', 'Florian', 'Florian', 'Florian', 'Florian', 'Aquari', 'Florian', 'Mythron', 'Mythron', 'Mythron', 'Mythron', 'Aquari', 'Cybex', 'Cybex', 'Cybex', 'Aquari', 'Faerix', 'Faerix', 'Mythron', 'Aquari', 'Aquari', 'Mythron', 'Aquari', 'Aquari', 'Aquari', 'Aquari', 'Aquari', 'Aquari', 'Aquari', 'Aquari', 'Quixnar', 'Quixnar', 'Quixnar', 'Cybex', 'Quixnar', 'Aquari', 'Quixnar', 'Faerix', 'Aquari', 'Faerix', 'Faerix', 'Faerix', 'Mythron', 'Mythron', 'Mythron', 'Mythron', 'Mythron', 'Mythron', 'Mythron', 'Mythron', 'Zorblax', 'Zorblax', 'Zorblax', 'Zorblax', 'Zorblax', 'Aquari', 'Nexoon', 'Nexoon', 'Aquari', 'Nexoon', 'Nexoon', 'Nexoon', 'Aquari', 'Aquari', 'Aquari', 'Aquari', 'Aquari', 'Aquari', 'Aquari', 'Aquari', 'Aquari', 'Emotivor', 'Emotivor', 'Emotivor', 'Emotivor', 'Emotivor', 'Emotivor', 'Emotivor', 'Florian', 'Florian', 'Aquari', 'Florian', 'Aquari', 'Aquari', 'Florian', 'Faerix', 'Faerix', 'Faerix', 'Faerix', 'Faerix', 'Faerix', 'Faerix', 'Nexoon', 'Nexoon', 'Nexoon', 'Nexoon', 'Nexoon', 'Nexoon', 'Nexoon', 'Nexoon', 'Nexoon', 'Aquari', 'Aquari', 'Aquari', 'Aquari', 'Aquari', 'Aquari', 'Aquari', 'Sentire', 'Aquari', 'Sentire', 'Sentire', 'Sentire', 'Sentire', 'Sentire', 'Sentire', 'Nexoon', 'Nexoon', 'Nexoon', 'Emotivor', 'Emotivor', 'Emotivor', 'Florian', 'Florian', 'Florian', 'Florian', 'Sentire', 'Sentire', 'Sentire', 'Sentire', 'Sentire', 'Emotivor', 'Emotivor', 'Aquari', 'Emotivor', 'Emotivor', 'Mythron', 'Mythron', 'Mythron', 'Sentire', 'Mythron', 'Mythron', 'Mythron', 'Mythron', 'Aquari', 'Aquari', 'Aquari', 'Aquari', 'Aquari', 'Aquari', 'Aquari', 'Cybex', 'Nexoon', 'Nexoon', 'Cybex', 'Nexoon', 'Aquari', 'Nexoon', 'Aquari', 'Faerix', 'Faerix', 'Faerix', 'Faerix', 'Faerix', 'Faerix', 'Faerix', 'Faerix', 'Quixnar', 'Quixnar', 'Quixnar', 'Quixnar', 'Quixnar', 'Quixnar', 'Quixnar', 'Quixnar', 'Aquari', 'Aquari', 'Aquari', 'Aquari', 'Aquari', 'Aquari', 'Aquari', 'Faerix', 'Faerix', 'Faerix', 'Aquari', 'Aquari', 'Emotivor', 'Faerix', 'Faerix', 'Faerix', 'Mythron', 'Mythron', 'Faerix', 'Mythron', 'Faerix', 'Mythron', 'Faerix', 'Faerix', 'Cybex', 'Cybex', 'Cybex', 'Cybex', 'Cybex', 'Cybex', 'Cybex', 'Cybex', 'Quixnar', 'Quixnar', 'Quixnar', 'Faerix', 'Faerix', 'Faerix', 'Faerix', 'Faerix', 'Faerix', 'Faerix', 'Zorblax', 'Zorblax', 'Aquari', 'Zorblax', 'Zorblax', 'Zorblax', 'Zorblax', 'Quixnar', 'Quixnar', 'Quixnar', 'Quixnar', 'Quixnar', 'Quixnar', 'Quixnar', 'Nexoon', 'Nexoon', 'Nexoon', 'Aquari', 'Nexoon', 'Nexoon', 'Aquari', 'Aquari', 'Mythron', 'Mythron', 'Mythron', 'Aquari', 'Sentire', 'Mythron', 'Mythron', 'Mythron', 'Sentire', 'Emotivor', 'Emotivor', 'Sentire', 'Quixnar', 'Quixnar', 'Quixnar', 'Quixnar', 'Florian', 'Florian', 'Florian', 'Florian', 'Florian', 'Aquari', 'Florian', 'Florian', 'Florian', 'Florian', 'Florian', 'Florian', 'Florian', 'Emotivor', 'Sentire', 'Faerix', 'Sentire', 'Sentire', 'Florian', 'Emotivor', 'Florian', 'Florian', 'Aquari', 'Florian', 'Aquari', 'Aquari', 'Aquari', 'Aquari', 'Zorblax', 'Zorblax', 'Zorblax', 'Zorblax', 'Zorblax', 'Zorblax', 'Nexoon', 'Nexoon', 'Cybex', 'Nexoon', 'Florian', 'Florian', 'Florian', 'Zorblax', 'Zorblax', 'Zorblax', 'Zorblax', 'Quixnar', 'Quixnar', 'Quixnar', 'Quixnar', 'Quixnar', 'Quixnar', 'Aquari', 'Aquari', 'Aquari', 'Aquari', 'Aquari', 'Aquari', 'Aquari', 'Faerix', 'Quixnar', 'Faerix', 'Faerix', 'Faerix', 'Cybex', 'Cybex', 'Cybex', 'Cybex', 'Cybex', 'Cybex', 'Cybex', 'Cybex', 'Zorblax', 'Quixnar', 'Quixnar', 'Quixnar', 'Zorblax', 'Zorblax', 'Aquari', 'Mythron', 'Mythron', 'Aquari', 'Mythron', 'Mythron', 'Mythron', 'Mythron', 'Faerix', 'Faerix', 'Faerix', 'Faerix', 'Faerix', 'Faerix', 'Faerix', 'Zorblax', 'Zorblax', 'Zorblax', 'Zorblax', 'Zorblax', 'Zorblax', 'Zorblax', 'Faerix', 'Faerix', 'Faerix', 'Faerix', 'Faerix', 'Zorblax', 'Zorblax', 'Zorblax', 'Mythron', 'Mythron', 'Mythron', 'Mythron', 'Mythron', 'Mythron', 'Mythron', 'Nexoon', 'Nexoon', 'Nexoon', 'Nexoon', 'Nexoon', 'Nexoon', 'Aquari', 'Nexoon', 'Florian', 'Florian', 'Florian', 'Florian', 'Florian', 'Zorblax', 'Zorblax', 'Zorblax', 'Zorblax', 'Zorblax', 'Zorblax', 'Zorblax', 'Cybex', 'Cybex', 'Cybex', 'Cybex', 'Cybex', 'Cybex', 'Cybex', 'Quixnar', 'Quixnar', 'Quixnar', 'Quixnar', 'Quixnar', 'Quixnar', 'Emotivor', 'Emotivor', 'Emotivor', 'Emotivor', 'Faerix', 'Faerix', 'Faerix', 'Faerix', 'Faerix', 'Faerix', 'Faerix', 'Faerix', 'Faerix', 'Faerix', 'Faerix', 'Zorblax', 'Aquari', 'Zorblax', 'Zorblax', 'Zorblax', 'Zorblax', 'Zorblax', 'Zorblax', 'Zorblax', 'Florian', 'Florian', 'Florian', 'Florian', 'Cybex', 'Cybex', 'Cybex', 'Cybex', 'Aquari', 'Aquari', 'Aquari', 'Aquari', 'Aquari', 'Sentire', 'Sentire', 'Sentire', 'Sentire', 'Sentire', 'Sentire', 'Sentire', 'Mythron', 'Mythron', 'Mythron', 'Mythron', 'Mythron', 'Sentire', 'Sentire', 'Sentire', 'Sentire', 'Sentire', 'Sentire', 'Sentire', 'Sentire', 'Sentire', 'Aquari', 'Aquari', 'Aquari', 'Aquari', 'Aquari', 'Aquari', 'Emotivor', 'Emotivor', 'Emotivor', 'Emotivor', 'Emotivor', 'Emotivor', 'Aquari', 'Aquari', 'Aquari', 'Aquari', 'Aquari', 'Aquari', 'Aquari', 'Aquari', 'Cybex', 'Cybex', 'Cybex', 'Cybex', 'Cybex', 'Cybex', 'Aquari', 'Aquari', 'Aquari', 'Aquari', 'Aquari', 'Aquari', 'Aquari', 'Aquari', 'Aquari', 'Aquari', 'Aquari', 'Cybex', 'Cybex', 'Cybex', 'Cybex', 'Cybex', 'Faerix', 'Faerix', 'Faerix', 'Faerix', 'Emotivor', 'Emotivor', 'Emotivor', 'Emotivor', 'Emotivor', 'Emotivor', 'Emotivor', 'Emotivor', 'Emotivor', 'Emotivor', 'Emotivor', 'Florian', 'Florian', 'Florian', 'Florian', 'Aquari', 'Mythron', 'Mythron', 'Mythron', 'Mythron', 'Nexoon', 'Nexoon', 'Aquari', 'Nexoon', 'Nexoon', 'Nexoon', 'Nexoon', 'Faerix', 'Faerix', 'Faerix', 'Faerix', 'Quixnar', 'Quixnar', 'Quixnar', 'Quixnar', 'Quixnar', 'Quixnar', 'Quixnar', 'Quixnar', 'Emotivor', 'Emotivor', 'Emotivor', 'Emotivor', 'Emotivor']\n"
          ]
        }
      ]
    },
    {
      "cell_type": "code",
      "source": [
        "def slice_by_lengths(lst, lengths):\n",
        "  \"\"\"Slices a list into sublists based on a list of lengths.\n",
        "\n",
        "  Args:\n",
        "    lst: The list to be sliced.\n",
        "    lengths: A list of integers representing the lengths of the desired slices.\n",
        "\n",
        "  Returns:\n",
        "    A list of sublists.\n",
        "  \"\"\"\n",
        "  slices = []\n",
        "  start = 0\n",
        "  for length in lengths:\n",
        "    end = start + length\n",
        "    slices.append(lst[start:end])\n",
        "    start = end\n",
        "  return slices"
      ],
      "metadata": {
        "id": "K1z2vPbNi862"
      },
      "execution_count": null,
      "outputs": []
    },
    {
      "cell_type": "code",
      "source": [
        "list_species=slice_by_lengths(species_op,test['tokenized_text'].apply(len))\n",
        "print(list_species)\n",
        "list_species=slice_by_lengths(species_op,test['tokenized_text'].apply(len))\n",
        "print(list_species)\n",
        "final_species_sub=[]\n",
        "for i in list_species:\n",
        "  final_species_sub.append(Counter(i).most_common(1)[0][0])"
      ],
      "metadata": {
        "colab": {
          "base_uri": "https://localhost:8080/"
        },
        "id": "_Ej5trKWjDmb",
        "outputId": "b2789ddc-b4e9-4f68-dcc5-c9b518ee681e"
      },
      "execution_count": null,
      "outputs": [
        {
          "output_type": "stream",
          "name": "stdout",
          "text": [
            "[['Aquari', 'Aquari', 'Aquari', 'Aquari', 'Aquari', 'Aquari'], ['Sentire', 'Aquari', 'Sentire', 'Aquari', 'Sentire', 'Sentire'], ['Florian', 'Aquari', 'Aquari'], ['Faerix', 'Faerix', 'Faerix', 'Faerix', 'Faerix', 'Faerix', 'Faerix'], ['Mythron', 'Mythron', 'Mythron'], ['Mythron', 'Mythron', 'Mythron', 'Mythron', 'Mythron'], ['Faerix', 'Faerix', 'Faerix', 'Faerix', 'Faerix'], ['Faerix', 'Faerix', 'Faerix', 'Faerix', 'Faerix', 'Faerix', 'Faerix', 'Faerix'], ['Emotivor', 'Emotivor', 'Emotivor'], ['Florian', 'Florian', 'Florian', 'Florian', 'Florian', 'Florian', 'Florian', 'Florian'], ['Mythron', 'Mythron', 'Mythron'], ['Emotivor', 'Emotivor', 'Emotivor', 'Emotivor', 'Emotivor'], ['Zorblax', 'Zorblax', 'Zorblax'], ['Quixnar', 'Quixnar', 'Quixnar', 'Quixnar', 'Quixnar', 'Quixnar', 'Quixnar', 'Quixnar'], ['Aquari', 'Mythron', 'Mythron', 'Mythron', 'Mythron', 'Mythron'], ['Aquari', 'Aquari', 'Aquari', 'Aquari', 'Aquari', 'Aquari', 'Aquari', 'Aquari'], ['Florian', 'Florian', 'Aquari', 'Florian', 'Florian'], ['Aquari', 'Aquari', 'Nexoon', 'Aquari', 'Nexoon'], ['Aquari', 'Aquari', 'Aquari', 'Aquari', 'Aquari'], ['Aquari', 'Aquari', 'Aquari', 'Aquari'], ['Zorblax', 'Zorblax', 'Zorblax', 'Zorblax', 'Zorblax', 'Zorblax', 'Zorblax'], ['Emotivor', 'Emotivor', 'Emotivor', 'Emotivor', 'Emotivor', 'Emotivor', 'Emotivor', 'Emotivor'], ['Quixnar', 'Quixnar', 'Quixnar', 'Quixnar', 'Quixnar', 'Quixnar'], ['Nexoon', 'Nexoon', 'Nexoon'], ['Mythron', 'Mythron', 'Mythron', 'Mythron'], ['Nexoon', 'Nexoon', 'Nexoon', 'Nexoon', 'Nexoon', 'Nexoon'], ['Aquari', 'Aquari', 'Aquari', 'Aquari'], ['Sentire', 'Aquari', 'Sentire', 'Sentire', 'Sentire', 'Sentire', 'Sentire', 'Sentire'], ['Sentire', 'Sentire', 'Sentire', 'Sentire', 'Sentire', 'Sentire'], ['Mythron', 'Mythron', 'Mythron', 'Mythron', 'Mythron', 'Mythron', 'Mythron', 'Mythron'], ['Emotivor', 'Cybex', 'Cybex', 'Cybex', 'Cybex', 'Cybex'], ['Emotivor', 'Emotivor', 'Emotivor', 'Emotivor', 'Emotivor', 'Emotivor', 'Emotivor'], ['Mythron', 'Mythron', 'Mythron', 'Mythron', 'Mythron', 'Mythron', 'Mythron'], ['Aquari', 'Sentire', 'Sentire'], ['Faerix', 'Faerix', 'Faerix', 'Faerix', 'Faerix', 'Faerix', 'Faerix'], ['Emotivor', 'Emotivor', 'Emotivor', 'Emotivor'], ['Aquari', 'Aquari', 'Aquari', 'Aquari', 'Aquari'], ['Florian', 'Nexoon', 'Florian'], ['Aquari', 'Aquari', 'Aquari', 'Aquari', 'Aquari', 'Aquari', 'Aquari'], ['Quixnar', 'Quixnar', 'Quixnar', 'Aquari', 'Quixnar', 'Quixnar', 'Quixnar'], ['Emotivor', 'Emotivor', 'Emotivor', 'Emotivor'], ['Quixnar', 'Quixnar', 'Quixnar', 'Quixnar', 'Quixnar', 'Quixnar', 'Quixnar'], ['Mythron', 'Mythron', 'Mythron', 'Aquari'], ['Nexoon', 'Aquari', 'Nexoon', 'Nexoon', 'Nexoon', 'Nexoon'], ['Aquari', 'Aquari', 'Aquari', 'Aquari', 'Aquari', 'Aquari'], ['Sentire', 'Emotivor', 'Emotivor', 'Sentire', 'Emotivor', 'Sentire', 'Emotivor'], ['Aquari', 'Quixnar', 'Quixnar', 'Quixnar', 'Zorblax'], ['Quixnar', 'Quixnar', 'Quixnar', 'Quixnar', 'Quixnar', 'Quixnar', 'Quixnar'], ['Zorblax', 'Zorblax', 'Zorblax', 'Zorblax', 'Zorblax', 'Zorblax', 'Nexoon', 'Zorblax'], ['Florian', 'Florian', 'Florian', 'Aquari'], ['Florian', 'Florian', 'Florian', 'Emotivor', 'Emotivor'], ['Zorblax', 'Zorblax', 'Zorblax', 'Zorblax'], ['Sentire', 'Sentire', 'Sentire'], ['Quixnar', 'Quixnar', 'Quixnar'], ['Emotivor', 'Emotivor', 'Emotivor', 'Emotivor', 'Emotivor', 'Emotivor', 'Emotivor'], ['Aquari', 'Emotivor', 'Emotivor'], ['Sentire', 'Sentire', 'Sentire', 'Sentire', 'Sentire', 'Mythron', 'Sentire'], ['Emotivor', 'Emotivor', 'Emotivor', 'Emotivor', 'Emotivor'], ['Mythron', 'Mythron', 'Mythron', 'Mythron'], ['Aquari', 'Nexoon', 'Nexoon', 'Quixnar', 'Aquari', 'Nexoon', 'Nexoon', 'Nexoon'], ['Cybex', 'Cybex', 'Cybex', 'Cybex'], ['Cybex', 'Cybex', 'Cybex'], ['Faerix', 'Aquari', 'Mythron', 'Faerix', 'Aquari', 'Faerix', 'Faerix', 'Aquari'], ['Faerix', 'Aquari', 'Sentire', 'Faerix', 'Aquari'], ['Sentire', 'Sentire', 'Sentire', 'Sentire', 'Sentire'], ['Mythron', 'Mythron', 'Mythron', 'Mythron', 'Mythron', 'Mythron'], ['Sentire', 'Sentire', 'Sentire', 'Sentire', 'Sentire', 'Sentire'], ['Faerix', 'Faerix', 'Faerix', 'Faerix', 'Faerix', 'Faerix', 'Faerix', 'Faerix'], ['Nexoon', 'Nexoon', 'Nexoon', 'Nexoon', 'Nexoon', 'Nexoon', 'Nexoon'], ['Quixnar', 'Quixnar', 'Quixnar', 'Quixnar', 'Aquari', 'Quixnar'], ['Quixnar', 'Quixnar', 'Quixnar'], ['Emotivor', 'Emotivor', 'Emotivor', 'Emotivor', 'Emotivor', 'Emotivor', 'Cybex'], ['Sentire', 'Aquari', 'Sentire', 'Sentire', 'Sentire', 'Sentire'], ['Zorblax', 'Zorblax', 'Zorblax', 'Zorblax', 'Zorblax'], ['Emotivor', 'Emotivor', 'Emotivor', 'Emotivor', 'Emotivor'], ['Sentire', 'Aquari', 'Sentire', 'Sentire', 'Sentire', 'Sentire', 'Sentire', 'Sentire'], ['Cybex', 'Cybex', 'Cybex', 'Cybex', 'Cybex'], ['Faerix', 'Mythron', 'Faerix', 'Faerix', 'Faerix'], ['Nexoon', 'Aquari', 'Nexoon', 'Aquari', 'Nexoon', 'Aquari', 'Aquari'], ['Emotivor', 'Emotivor', 'Emotivor', 'Emotivor', 'Emotivor'], ['Emotivor', 'Emotivor', 'Emotivor', 'Emotivor', 'Emotivor', 'Emotivor'], ['Cybex', 'Cybex', 'Cybex', 'Cybex'], ['Emotivor', 'Emotivor', 'Emotivor', 'Emotivor'], ['Aquari', 'Aquari', 'Aquari', 'Aquari', 'Faerix', 'Aquari', 'Aquari'], ['Nexoon', 'Nexoon', 'Aquari', 'Nexoon', 'Nexoon', 'Nexoon', 'Nexoon'], ['Sentire', 'Sentire', 'Sentire', 'Sentire', 'Sentire', 'Sentire', 'Sentire', 'Sentire'], ['Faerix', 'Faerix', 'Faerix', 'Faerix', 'Faerix'], ['Zorblax', 'Zorblax', 'Zorblax', 'Zorblax', 'Zorblax', 'Zorblax'], ['Nexoon', 'Nexoon', 'Nexoon', 'Nexoon', 'Nexoon', 'Aquari'], ['Faerix', 'Faerix', 'Faerix', 'Faerix'], ['Sentire', 'Sentire', 'Sentire', 'Sentire', 'Sentire', 'Sentire', 'Sentire'], ['Faerix', 'Faerix', 'Faerix', 'Faerix', 'Aquari'], ['Aquari', 'Nexoon', 'Nexoon', 'Aquari', 'Nexoon'], ['Quixnar', 'Quixnar', 'Quixnar', 'Quixnar'], ['Sentire', 'Aquari', 'Sentire', 'Sentire', 'Sentire', 'Sentire'], ['Florian', 'Florian', 'Florian'], ['Mythron', 'Mythron', 'Mythron', 'Mythron'], ['Nexoon', 'Nexoon', 'Zorblax'], ['Emotivor', 'Emotivor', 'Emotivor', 'Emotivor', 'Emotivor'], ['Aquari', 'Aquari', 'Mythron', 'Aquari', 'Mythron', 'Faerix'], ['Florian', 'Florian', 'Florian'], ['Sentire', 'Sentire', 'Sentire', 'Sentire', 'Sentire', 'Sentire'], ['Sentire', 'Sentire', 'Sentire', 'Sentire', 'Sentire'], ['Aquari', 'Aquari', 'Aquari', 'Aquari', 'Aquari', 'Aquari', 'Aquari', 'Aquari'], ['Aquari', 'Nexoon', 'Nexoon', 'Nexoon', 'Nexoon', 'Aquari'], ['Quixnar', 'Quixnar', 'Aquari'], ['Aquari', 'Aquari', 'Aquari'], ['Aquari', 'Aquari', 'Emotivor'], ['Quixnar', 'Quixnar', 'Quixnar', 'Quixnar', 'Quixnar', 'Quixnar', 'Quixnar'], ['Emotivor', 'Emotivor', 'Emotivor'], ['Emotivor', 'Emotivor', 'Emotivor', 'Emotivor', 'Sentire', 'Sentire', 'Sentire'], ['Mythron', 'Zorblax', 'Mythron', 'Mythron', 'Mythron', 'Mythron', 'Mythron', 'Mythron'], ['Quixnar', 'Aquari', 'Aquari', 'Aquari', 'Aquari', 'Aquari'], ['Mythron', 'Mythron', 'Mythron', 'Mythron', 'Mythron', 'Mythron'], ['Aquari', 'Aquari', 'Aquari', 'Aquari', 'Aquari'], ['Faerix', 'Faerix', 'Faerix', 'Faerix', 'Faerix'], ['Mythron', 'Mythron', 'Mythron', 'Mythron', 'Mythron', 'Mythron'], ['Cybex', 'Cybex', 'Cybex'], ['Faerix', 'Faerix', 'Faerix', 'Faerix'], ['Quixnar', 'Quixnar', 'Quixnar', 'Quixnar', 'Quixnar'], ['Mythron', 'Mythron', 'Mythron', 'Sentire', 'Mythron'], ['Sentire', 'Sentire', 'Sentire', 'Sentire', 'Sentire', 'Sentire'], ['Cybex', 'Cybex', 'Cybex', 'Cybex', 'Cybex', 'Aquari'], ['Aquari', 'Aquari', 'Aquari', 'Aquari', 'Aquari', 'Aquari'], ['Quixnar', 'Quixnar', 'Quixnar', 'Quixnar'], ['Florian', 'Florian', 'Florian'], ['Cybex', 'Cybex', 'Cybex', 'Cybex', 'Cybex', 'Cybex', 'Cybex'], ['Florian', 'Florian', 'Florian'], ['Quixnar', 'Quixnar', 'Quixnar', 'Quixnar'], ['Zorblax', 'Zorblax', 'Zorblax', 'Zorblax', 'Zorblax', 'Zorblax'], ['Nexoon', 'Aquari', 'Aquari'], ['Quixnar', 'Quixnar', 'Quixnar'], ['Aquari', 'Faerix', 'Faerix', 'Faerix', 'Faerix', 'Faerix', 'Faerix'], ['Aquari', 'Aquari', 'Aquari', 'Aquari', 'Aquari', 'Aquari', 'Aquari'], ['Sentire', 'Sentire', 'Sentire', 'Sentire', 'Sentire', 'Sentire', 'Sentire'], ['Emotivor', 'Emotivor', 'Emotivor'], ['Cybex', 'Cybex', 'Cybex', 'Cybex', 'Cybex', 'Cybex', 'Cybex'], ['Sentire', 'Sentire', 'Sentire'], ['Nexoon', 'Nexoon', 'Nexoon', 'Nexoon', 'Nexoon'], ['Mythron', 'Mythron', 'Mythron', 'Mythron', 'Mythron'], ['Cybex', 'Cybex', 'Cybex', 'Cybex'], ['Emotivor', 'Emotivor', 'Emotivor', 'Emotivor', 'Emotivor', 'Emotivor'], ['Aquari', 'Aquari', 'Aquari', 'Aquari', 'Aquari'], ['Sentire', 'Sentire', 'Sentire', 'Sentire', 'Sentire', 'Sentire'], ['Quixnar', 'Aquari', 'Zorblax'], ['Florian', 'Florian', 'Florian', 'Florian'], ['Emotivor', 'Emotivor', 'Emotivor', 'Emotivor'], ['Mythron', 'Mythron', 'Mythron'], ['Aquari', 'Aquari', 'Aquari', 'Aquari', 'Aquari'], ['Nexoon', 'Nexoon', 'Nexoon', 'Nexoon', 'Nexoon', 'Nexoon', 'Aquari'], ['Aquari', 'Aquari', 'Florian'], ['Cybex', 'Aquari', 'Nexoon', 'Cybex'], ['Aquari', 'Aquari', 'Aquari'], ['Emotivor', 'Emotivor', 'Emotivor', 'Emotivor', 'Emotivor', 'Emotivor', 'Emotivor', 'Emotivor'], ['Aquari', 'Aquari', 'Aquari', 'Aquari', 'Aquari'], ['Sentire', 'Sentire', 'Sentire', 'Sentire'], ['Aquari', 'Aquari', 'Aquari', 'Aquari', 'Aquari', 'Aquari'], ['Sentire', 'Sentire', 'Sentire', 'Sentire', 'Sentire', 'Sentire'], ['Florian', 'Florian', 'Florian', 'Florian', 'Florian', 'Florian', 'Florian', 'Florian'], ['Emotivor', 'Emotivor', 'Aquari', 'Emotivor', 'Emotivor'], ['Emotivor', 'Emotivor', 'Emotivor', 'Sentire'], ['Aquari', 'Aquari', 'Aquari', 'Aquari', 'Aquari', 'Aquari', 'Aquari'], ['Nexoon', 'Aquari', 'Nexoon', 'Nexoon', 'Aquari', 'Nexoon', 'Nexoon'], ['Cybex', 'Cybex', 'Cybex', 'Cybex', 'Cybex', 'Cybex', 'Cybex'], ['Nexoon', 'Nexoon', 'Nexoon'], ['Sentire', 'Emotivor', 'Emotivor', 'Emotivor', 'Emotivor'], ['Aquari', 'Aquari', 'Aquari'], ['Cybex', 'Cybex', 'Cybex', 'Cybex'], ['Mythron', 'Mythron', 'Mythron', 'Mythron', 'Mythron', 'Mythron'], ['Cybex', 'Cybex', 'Cybex', 'Cybex', 'Cybex', 'Cybex', 'Cybex', 'Cybex'], ['Mythron', 'Mythron', 'Mythron', 'Mythron', 'Mythron', 'Aquari', 'Mythron'], ['Sentire', 'Sentire', 'Sentire', 'Sentire', 'Quixnar', 'Sentire'], ['Zorblax', 'Zorblax', 'Zorblax', 'Zorblax', 'Zorblax'], ['Emotivor', 'Cybex', 'Emotivor', 'Emotivor'], ['Cybex', 'Cybex', 'Cybex', 'Cybex', 'Cybex', 'Cybex'], ['Sentire', 'Aquari', 'Quixnar', 'Sentire', 'Aquari', 'Sentire', 'Sentire'], ['Florian', 'Florian', 'Florian', 'Florian'], ['Sentire', 'Aquari', 'Sentire', 'Aquari', 'Sentire', 'Sentire'], ['Florian', 'Florian', 'Florian', 'Florian'], ['Emotivor', 'Emotivor', 'Emotivor', 'Emotivor'], ['Emotivor', 'Emotivor', 'Emotivor', 'Emotivor'], ['Quixnar', 'Quixnar', 'Aquari'], ['Aquari', 'Aquari', 'Aquari'], ['Faerix', 'Faerix', 'Faerix', 'Faerix', 'Faerix', 'Faerix', 'Faerix', 'Faerix'], ['Faerix', 'Faerix', 'Faerix', 'Faerix', 'Faerix', 'Faerix'], ['Aquari', 'Aquari', 'Aquari', 'Aquari'], ['Emotivor', 'Emotivor', 'Emotivor', 'Emotivor', 'Emotivor'], ['Cybex', 'Cybex', 'Aquari', 'Cybex'], ['Nexoon', 'Nexoon', 'Aquari', 'Nexoon'], ['Quixnar', 'Quixnar', 'Quixnar'], ['Sentire', 'Sentire', 'Sentire'], ['Zorblax', 'Zorblax', 'Zorblax', 'Zorblax', 'Zorblax', 'Zorblax', 'Mythron', 'Zorblax'], ['Mythron', 'Mythron', 'Mythron', 'Mythron', 'Mythron', 'Mythron', 'Mythron', 'Mythron'], ['Zorblax', 'Zorblax', 'Zorblax', 'Zorblax', 'Zorblax', 'Zorblax', 'Zorblax', 'Zorblax'], ['Cybex', 'Cybex', 'Cybex', 'Cybex', 'Cybex', 'Cybex', 'Cybex', 'Cybex'], ['Cybex', 'Cybex', 'Cybex', 'Cybex', 'Cybex', 'Cybex', 'Cybex'], ['Mythron', 'Mythron', 'Mythron', 'Mythron', 'Mythron', 'Mythron', 'Mythron'], ['Faerix', 'Faerix', 'Faerix'], ['Aquari', 'Aquari', 'Aquari', 'Aquari'], ['Nexoon', 'Nexoon', 'Nexoon', 'Nexoon', 'Nexoon', 'Nexoon', 'Nexoon', 'Nexoon'], ['Nexoon', 'Cybex', 'Aquari'], ['Faerix', 'Faerix', 'Faerix', 'Faerix'], ['Sentire', 'Sentire', 'Sentire', 'Zorblax', 'Sentire', 'Sentire', 'Sentire'], ['Florian', 'Florian', 'Florian', 'Florian', 'Florian', 'Aquari', 'Florian'], ['Mythron', 'Mythron', 'Mythron', 'Mythron'], ['Aquari', 'Cybex', 'Cybex', 'Cybex', 'Aquari'], ['Faerix', 'Faerix', 'Mythron', 'Aquari', 'Aquari', 'Mythron'], ['Aquari', 'Aquari', 'Aquari', 'Aquari', 'Aquari', 'Aquari', 'Aquari', 'Aquari'], ['Quixnar', 'Quixnar', 'Quixnar', 'Cybex', 'Quixnar', 'Aquari', 'Quixnar'], ['Faerix', 'Aquari', 'Faerix', 'Faerix', 'Faerix'], ['Mythron', 'Mythron', 'Mythron'], ['Mythron', 'Mythron', 'Mythron', 'Mythron', 'Mythron'], ['Zorblax', 'Zorblax', 'Zorblax', 'Zorblax', 'Zorblax'], ['Aquari', 'Nexoon', 'Nexoon', 'Aquari', 'Nexoon', 'Nexoon', 'Nexoon', 'Aquari'], ['Aquari', 'Aquari', 'Aquari', 'Aquari', 'Aquari', 'Aquari', 'Aquari', 'Aquari'], ['Emotivor', 'Emotivor', 'Emotivor', 'Emotivor', 'Emotivor', 'Emotivor', 'Emotivor'], ['Florian', 'Florian', 'Aquari', 'Florian', 'Aquari', 'Aquari', 'Florian'], ['Faerix', 'Faerix', 'Faerix', 'Faerix', 'Faerix', 'Faerix', 'Faerix'], ['Nexoon', 'Nexoon', 'Nexoon'], ['Nexoon', 'Nexoon', 'Nexoon', 'Nexoon', 'Nexoon', 'Nexoon'], ['Aquari', 'Aquari', 'Aquari', 'Aquari', 'Aquari', 'Aquari', 'Aquari'], ['Sentire', 'Aquari', 'Sentire', 'Sentire', 'Sentire', 'Sentire', 'Sentire', 'Sentire'], ['Nexoon', 'Nexoon', 'Nexoon'], ['Emotivor', 'Emotivor', 'Emotivor'], ['Florian', 'Florian', 'Florian', 'Florian'], ['Sentire', 'Sentire', 'Sentire', 'Sentire', 'Sentire'], ['Emotivor', 'Emotivor', 'Aquari', 'Emotivor', 'Emotivor'], ['Mythron', 'Mythron', 'Mythron', 'Sentire', 'Mythron', 'Mythron', 'Mythron', 'Mythron'], ['Aquari', 'Aquari', 'Aquari', 'Aquari', 'Aquari', 'Aquari', 'Aquari'], ['Cybex', 'Nexoon', 'Nexoon', 'Cybex', 'Nexoon', 'Aquari', 'Nexoon', 'Aquari'], ['Faerix', 'Faerix', 'Faerix', 'Faerix', 'Faerix', 'Faerix', 'Faerix', 'Faerix'], ['Quixnar', 'Quixnar', 'Quixnar', 'Quixnar', 'Quixnar', 'Quixnar', 'Quixnar', 'Quixnar'], ['Aquari', 'Aquari', 'Aquari', 'Aquari', 'Aquari', 'Aquari', 'Aquari'], ['Faerix', 'Faerix', 'Faerix', 'Aquari'], ['Aquari', 'Emotivor', 'Faerix', 'Faerix', 'Faerix'], ['Mythron', 'Mythron', 'Faerix', 'Mythron', 'Faerix', 'Mythron', 'Faerix', 'Faerix'], ['Cybex', 'Cybex', 'Cybex', 'Cybex', 'Cybex', 'Cybex', 'Cybex', 'Cybex'], ['Quixnar', 'Quixnar', 'Quixnar'], ['Faerix', 'Faerix', 'Faerix', 'Faerix', 'Faerix', 'Faerix', 'Faerix'], ['Zorblax', 'Zorblax', 'Aquari', 'Zorblax', 'Zorblax', 'Zorblax', 'Zorblax'], ['Quixnar', 'Quixnar', 'Quixnar', 'Quixnar', 'Quixnar', 'Quixnar', 'Quixnar'], ['Nexoon', 'Nexoon', 'Nexoon', 'Aquari', 'Nexoon', 'Nexoon', 'Aquari', 'Aquari'], ['Mythron', 'Mythron', 'Mythron', 'Aquari', 'Sentire', 'Mythron', 'Mythron', 'Mythron'], ['Sentire', 'Emotivor', 'Emotivor', 'Sentire'], ['Quixnar', 'Quixnar', 'Quixnar', 'Quixnar'], ['Florian', 'Florian', 'Florian', 'Florian', 'Florian'], ['Aquari', 'Florian', 'Florian', 'Florian', 'Florian', 'Florian', 'Florian', 'Florian'], ['Emotivor', 'Sentire', 'Faerix', 'Sentire', 'Sentire'], ['Florian', 'Emotivor', 'Florian', 'Florian', 'Aquari', 'Florian'], ['Aquari', 'Aquari', 'Aquari', 'Aquari'], ['Zorblax', 'Zorblax', 'Zorblax', 'Zorblax', 'Zorblax', 'Zorblax'], ['Nexoon', 'Nexoon', 'Cybex', 'Nexoon'], ['Florian', 'Florian', 'Florian'], ['Zorblax', 'Zorblax', 'Zorblax', 'Zorblax'], ['Quixnar', 'Quixnar', 'Quixnar'], ['Quixnar', 'Quixnar', 'Quixnar'], ['Aquari', 'Aquari', 'Aquari', 'Aquari', 'Aquari', 'Aquari', 'Aquari'], ['Faerix', 'Quixnar', 'Faerix', 'Faerix', 'Faerix'], ['Cybex', 'Cybex', 'Cybex', 'Cybex', 'Cybex', 'Cybex', 'Cybex', 'Cybex'], ['Zorblax', 'Quixnar', 'Quixnar', 'Quixnar', 'Zorblax', 'Zorblax', 'Aquari'], ['Mythron', 'Mythron', 'Aquari', 'Mythron', 'Mythron', 'Mythron', 'Mythron'], ['Faerix', 'Faerix', 'Faerix', 'Faerix', 'Faerix', 'Faerix', 'Faerix'], ['Zorblax', 'Zorblax', 'Zorblax', 'Zorblax', 'Zorblax', 'Zorblax', 'Zorblax'], ['Faerix', 'Faerix', 'Faerix', 'Faerix', 'Faerix'], ['Zorblax', 'Zorblax', 'Zorblax'], ['Mythron', 'Mythron', 'Mythron', 'Mythron', 'Mythron', 'Mythron', 'Mythron'], ['Nexoon', 'Nexoon', 'Nexoon', 'Nexoon', 'Nexoon', 'Nexoon', 'Aquari', 'Nexoon'], ['Florian', 'Florian', 'Florian', 'Florian', 'Florian'], ['Zorblax', 'Zorblax', 'Zorblax', 'Zorblax'], ['Zorblax', 'Zorblax', 'Zorblax'], ['Cybex', 'Cybex', 'Cybex', 'Cybex', 'Cybex', 'Cybex', 'Cybex'], ['Quixnar', 'Quixnar', 'Quixnar', 'Quixnar', 'Quixnar', 'Quixnar'], ['Emotivor', 'Emotivor', 'Emotivor', 'Emotivor'], ['Faerix', 'Faerix', 'Faerix', 'Faerix', 'Faerix', 'Faerix', 'Faerix', 'Faerix'], ['Faerix', 'Faerix', 'Faerix'], ['Zorblax', 'Aquari', 'Zorblax', 'Zorblax', 'Zorblax', 'Zorblax'], ['Zorblax', 'Zorblax', 'Zorblax'], ['Florian', 'Florian', 'Florian', 'Florian'], ['Cybex', 'Cybex', 'Cybex', 'Cybex'], ['Aquari', 'Aquari', 'Aquari', 'Aquari', 'Aquari'], ['Sentire', 'Sentire', 'Sentire', 'Sentire', 'Sentire', 'Sentire', 'Sentire'], ['Mythron', 'Mythron', 'Mythron', 'Mythron', 'Mythron', 'Sentire'], ['Sentire', 'Sentire', 'Sentire', 'Sentire', 'Sentire', 'Sentire', 'Sentire', 'Sentire'], ['Aquari', 'Aquari', 'Aquari', 'Aquari', 'Aquari', 'Aquari'], ['Emotivor', 'Emotivor', 'Emotivor', 'Emotivor', 'Emotivor', 'Emotivor'], ['Aquari', 'Aquari', 'Aquari', 'Aquari', 'Aquari', 'Aquari', 'Aquari', 'Aquari'], ['Cybex', 'Cybex', 'Cybex', 'Cybex', 'Cybex', 'Cybex'], ['Aquari', 'Aquari', 'Aquari', 'Aquari'], ['Aquari', 'Aquari', 'Aquari', 'Aquari', 'Aquari', 'Aquari', 'Aquari'], ['Cybex', 'Cybex', 'Cybex', 'Cybex', 'Cybex'], ['Faerix', 'Faerix', 'Faerix', 'Faerix'], ['Emotivor', 'Emotivor', 'Emotivor', 'Emotivor'], ['Emotivor', 'Emotivor', 'Emotivor', 'Emotivor', 'Emotivor', 'Emotivor', 'Emotivor'], ['Florian', 'Florian', 'Florian', 'Florian'], ['Aquari', 'Mythron', 'Mythron', 'Mythron', 'Mythron'], ['Nexoon', 'Nexoon', 'Aquari', 'Nexoon', 'Nexoon', 'Nexoon', 'Nexoon'], ['Faerix', 'Faerix', 'Faerix', 'Faerix'], ['Quixnar', 'Quixnar', 'Quixnar', 'Quixnar', 'Quixnar', 'Quixnar', 'Quixnar', 'Quixnar'], ['Emotivor', 'Emotivor', 'Emotivor', 'Emotivor', 'Emotivor']]\n",
            "[['Aquari', 'Aquari', 'Aquari', 'Aquari', 'Aquari', 'Aquari'], ['Sentire', 'Aquari', 'Sentire', 'Aquari', 'Sentire', 'Sentire'], ['Florian', 'Aquari', 'Aquari'], ['Faerix', 'Faerix', 'Faerix', 'Faerix', 'Faerix', 'Faerix', 'Faerix'], ['Mythron', 'Mythron', 'Mythron'], ['Mythron', 'Mythron', 'Mythron', 'Mythron', 'Mythron'], ['Faerix', 'Faerix', 'Faerix', 'Faerix', 'Faerix'], ['Faerix', 'Faerix', 'Faerix', 'Faerix', 'Faerix', 'Faerix', 'Faerix', 'Faerix'], ['Emotivor', 'Emotivor', 'Emotivor'], ['Florian', 'Florian', 'Florian', 'Florian', 'Florian', 'Florian', 'Florian', 'Florian'], ['Mythron', 'Mythron', 'Mythron'], ['Emotivor', 'Emotivor', 'Emotivor', 'Emotivor', 'Emotivor'], ['Zorblax', 'Zorblax', 'Zorblax'], ['Quixnar', 'Quixnar', 'Quixnar', 'Quixnar', 'Quixnar', 'Quixnar', 'Quixnar', 'Quixnar'], ['Aquari', 'Mythron', 'Mythron', 'Mythron', 'Mythron', 'Mythron'], ['Aquari', 'Aquari', 'Aquari', 'Aquari', 'Aquari', 'Aquari', 'Aquari', 'Aquari'], ['Florian', 'Florian', 'Aquari', 'Florian', 'Florian'], ['Aquari', 'Aquari', 'Nexoon', 'Aquari', 'Nexoon'], ['Aquari', 'Aquari', 'Aquari', 'Aquari', 'Aquari'], ['Aquari', 'Aquari', 'Aquari', 'Aquari'], ['Zorblax', 'Zorblax', 'Zorblax', 'Zorblax', 'Zorblax', 'Zorblax', 'Zorblax'], ['Emotivor', 'Emotivor', 'Emotivor', 'Emotivor', 'Emotivor', 'Emotivor', 'Emotivor', 'Emotivor'], ['Quixnar', 'Quixnar', 'Quixnar', 'Quixnar', 'Quixnar', 'Quixnar'], ['Nexoon', 'Nexoon', 'Nexoon'], ['Mythron', 'Mythron', 'Mythron', 'Mythron'], ['Nexoon', 'Nexoon', 'Nexoon', 'Nexoon', 'Nexoon', 'Nexoon'], ['Aquari', 'Aquari', 'Aquari', 'Aquari'], ['Sentire', 'Aquari', 'Sentire', 'Sentire', 'Sentire', 'Sentire', 'Sentire', 'Sentire'], ['Sentire', 'Sentire', 'Sentire', 'Sentire', 'Sentire', 'Sentire'], ['Mythron', 'Mythron', 'Mythron', 'Mythron', 'Mythron', 'Mythron', 'Mythron', 'Mythron'], ['Emotivor', 'Cybex', 'Cybex', 'Cybex', 'Cybex', 'Cybex'], ['Emotivor', 'Emotivor', 'Emotivor', 'Emotivor', 'Emotivor', 'Emotivor', 'Emotivor'], ['Mythron', 'Mythron', 'Mythron', 'Mythron', 'Mythron', 'Mythron', 'Mythron'], ['Aquari', 'Sentire', 'Sentire'], ['Faerix', 'Faerix', 'Faerix', 'Faerix', 'Faerix', 'Faerix', 'Faerix'], ['Emotivor', 'Emotivor', 'Emotivor', 'Emotivor'], ['Aquari', 'Aquari', 'Aquari', 'Aquari', 'Aquari'], ['Florian', 'Nexoon', 'Florian'], ['Aquari', 'Aquari', 'Aquari', 'Aquari', 'Aquari', 'Aquari', 'Aquari'], ['Quixnar', 'Quixnar', 'Quixnar', 'Aquari', 'Quixnar', 'Quixnar', 'Quixnar'], ['Emotivor', 'Emotivor', 'Emotivor', 'Emotivor'], ['Quixnar', 'Quixnar', 'Quixnar', 'Quixnar', 'Quixnar', 'Quixnar', 'Quixnar'], ['Mythron', 'Mythron', 'Mythron', 'Aquari'], ['Nexoon', 'Aquari', 'Nexoon', 'Nexoon', 'Nexoon', 'Nexoon'], ['Aquari', 'Aquari', 'Aquari', 'Aquari', 'Aquari', 'Aquari'], ['Sentire', 'Emotivor', 'Emotivor', 'Sentire', 'Emotivor', 'Sentire', 'Emotivor'], ['Aquari', 'Quixnar', 'Quixnar', 'Quixnar', 'Zorblax'], ['Quixnar', 'Quixnar', 'Quixnar', 'Quixnar', 'Quixnar', 'Quixnar', 'Quixnar'], ['Zorblax', 'Zorblax', 'Zorblax', 'Zorblax', 'Zorblax', 'Zorblax', 'Nexoon', 'Zorblax'], ['Florian', 'Florian', 'Florian', 'Aquari'], ['Florian', 'Florian', 'Florian', 'Emotivor', 'Emotivor'], ['Zorblax', 'Zorblax', 'Zorblax', 'Zorblax'], ['Sentire', 'Sentire', 'Sentire'], ['Quixnar', 'Quixnar', 'Quixnar'], ['Emotivor', 'Emotivor', 'Emotivor', 'Emotivor', 'Emotivor', 'Emotivor', 'Emotivor'], ['Aquari', 'Emotivor', 'Emotivor'], ['Sentire', 'Sentire', 'Sentire', 'Sentire', 'Sentire', 'Mythron', 'Sentire'], ['Emotivor', 'Emotivor', 'Emotivor', 'Emotivor', 'Emotivor'], ['Mythron', 'Mythron', 'Mythron', 'Mythron'], ['Aquari', 'Nexoon', 'Nexoon', 'Quixnar', 'Aquari', 'Nexoon', 'Nexoon', 'Nexoon'], ['Cybex', 'Cybex', 'Cybex', 'Cybex'], ['Cybex', 'Cybex', 'Cybex'], ['Faerix', 'Aquari', 'Mythron', 'Faerix', 'Aquari', 'Faerix', 'Faerix', 'Aquari'], ['Faerix', 'Aquari', 'Sentire', 'Faerix', 'Aquari'], ['Sentire', 'Sentire', 'Sentire', 'Sentire', 'Sentire'], ['Mythron', 'Mythron', 'Mythron', 'Mythron', 'Mythron', 'Mythron'], ['Sentire', 'Sentire', 'Sentire', 'Sentire', 'Sentire', 'Sentire'], ['Faerix', 'Faerix', 'Faerix', 'Faerix', 'Faerix', 'Faerix', 'Faerix', 'Faerix'], ['Nexoon', 'Nexoon', 'Nexoon', 'Nexoon', 'Nexoon', 'Nexoon', 'Nexoon'], ['Quixnar', 'Quixnar', 'Quixnar', 'Quixnar', 'Aquari', 'Quixnar'], ['Quixnar', 'Quixnar', 'Quixnar'], ['Emotivor', 'Emotivor', 'Emotivor', 'Emotivor', 'Emotivor', 'Emotivor', 'Cybex'], ['Sentire', 'Aquari', 'Sentire', 'Sentire', 'Sentire', 'Sentire'], ['Zorblax', 'Zorblax', 'Zorblax', 'Zorblax', 'Zorblax'], ['Emotivor', 'Emotivor', 'Emotivor', 'Emotivor', 'Emotivor'], ['Sentire', 'Aquari', 'Sentire', 'Sentire', 'Sentire', 'Sentire', 'Sentire', 'Sentire'], ['Cybex', 'Cybex', 'Cybex', 'Cybex', 'Cybex'], ['Faerix', 'Mythron', 'Faerix', 'Faerix', 'Faerix'], ['Nexoon', 'Aquari', 'Nexoon', 'Aquari', 'Nexoon', 'Aquari', 'Aquari'], ['Emotivor', 'Emotivor', 'Emotivor', 'Emotivor', 'Emotivor'], ['Emotivor', 'Emotivor', 'Emotivor', 'Emotivor', 'Emotivor', 'Emotivor'], ['Cybex', 'Cybex', 'Cybex', 'Cybex'], ['Emotivor', 'Emotivor', 'Emotivor', 'Emotivor'], ['Aquari', 'Aquari', 'Aquari', 'Aquari', 'Faerix', 'Aquari', 'Aquari'], ['Nexoon', 'Nexoon', 'Aquari', 'Nexoon', 'Nexoon', 'Nexoon', 'Nexoon'], ['Sentire', 'Sentire', 'Sentire', 'Sentire', 'Sentire', 'Sentire', 'Sentire', 'Sentire'], ['Faerix', 'Faerix', 'Faerix', 'Faerix', 'Faerix'], ['Zorblax', 'Zorblax', 'Zorblax', 'Zorblax', 'Zorblax', 'Zorblax'], ['Nexoon', 'Nexoon', 'Nexoon', 'Nexoon', 'Nexoon', 'Aquari'], ['Faerix', 'Faerix', 'Faerix', 'Faerix'], ['Sentire', 'Sentire', 'Sentire', 'Sentire', 'Sentire', 'Sentire', 'Sentire'], ['Faerix', 'Faerix', 'Faerix', 'Faerix', 'Aquari'], ['Aquari', 'Nexoon', 'Nexoon', 'Aquari', 'Nexoon'], ['Quixnar', 'Quixnar', 'Quixnar', 'Quixnar'], ['Sentire', 'Aquari', 'Sentire', 'Sentire', 'Sentire', 'Sentire'], ['Florian', 'Florian', 'Florian'], ['Mythron', 'Mythron', 'Mythron', 'Mythron'], ['Nexoon', 'Nexoon', 'Zorblax'], ['Emotivor', 'Emotivor', 'Emotivor', 'Emotivor', 'Emotivor'], ['Aquari', 'Aquari', 'Mythron', 'Aquari', 'Mythron', 'Faerix'], ['Florian', 'Florian', 'Florian'], ['Sentire', 'Sentire', 'Sentire', 'Sentire', 'Sentire', 'Sentire'], ['Sentire', 'Sentire', 'Sentire', 'Sentire', 'Sentire'], ['Aquari', 'Aquari', 'Aquari', 'Aquari', 'Aquari', 'Aquari', 'Aquari', 'Aquari'], ['Aquari', 'Nexoon', 'Nexoon', 'Nexoon', 'Nexoon', 'Aquari'], ['Quixnar', 'Quixnar', 'Aquari'], ['Aquari', 'Aquari', 'Aquari'], ['Aquari', 'Aquari', 'Emotivor'], ['Quixnar', 'Quixnar', 'Quixnar', 'Quixnar', 'Quixnar', 'Quixnar', 'Quixnar'], ['Emotivor', 'Emotivor', 'Emotivor'], ['Emotivor', 'Emotivor', 'Emotivor', 'Emotivor', 'Sentire', 'Sentire', 'Sentire'], ['Mythron', 'Zorblax', 'Mythron', 'Mythron', 'Mythron', 'Mythron', 'Mythron', 'Mythron'], ['Quixnar', 'Aquari', 'Aquari', 'Aquari', 'Aquari', 'Aquari'], ['Mythron', 'Mythron', 'Mythron', 'Mythron', 'Mythron', 'Mythron'], ['Aquari', 'Aquari', 'Aquari', 'Aquari', 'Aquari'], ['Faerix', 'Faerix', 'Faerix', 'Faerix', 'Faerix'], ['Mythron', 'Mythron', 'Mythron', 'Mythron', 'Mythron', 'Mythron'], ['Cybex', 'Cybex', 'Cybex'], ['Faerix', 'Faerix', 'Faerix', 'Faerix'], ['Quixnar', 'Quixnar', 'Quixnar', 'Quixnar', 'Quixnar'], ['Mythron', 'Mythron', 'Mythron', 'Sentire', 'Mythron'], ['Sentire', 'Sentire', 'Sentire', 'Sentire', 'Sentire', 'Sentire'], ['Cybex', 'Cybex', 'Cybex', 'Cybex', 'Cybex', 'Aquari'], ['Aquari', 'Aquari', 'Aquari', 'Aquari', 'Aquari', 'Aquari'], ['Quixnar', 'Quixnar', 'Quixnar', 'Quixnar'], ['Florian', 'Florian', 'Florian'], ['Cybex', 'Cybex', 'Cybex', 'Cybex', 'Cybex', 'Cybex', 'Cybex'], ['Florian', 'Florian', 'Florian'], ['Quixnar', 'Quixnar', 'Quixnar', 'Quixnar'], ['Zorblax', 'Zorblax', 'Zorblax', 'Zorblax', 'Zorblax', 'Zorblax'], ['Nexoon', 'Aquari', 'Aquari'], ['Quixnar', 'Quixnar', 'Quixnar'], ['Aquari', 'Faerix', 'Faerix', 'Faerix', 'Faerix', 'Faerix', 'Faerix'], ['Aquari', 'Aquari', 'Aquari', 'Aquari', 'Aquari', 'Aquari', 'Aquari'], ['Sentire', 'Sentire', 'Sentire', 'Sentire', 'Sentire', 'Sentire', 'Sentire'], ['Emotivor', 'Emotivor', 'Emotivor'], ['Cybex', 'Cybex', 'Cybex', 'Cybex', 'Cybex', 'Cybex', 'Cybex'], ['Sentire', 'Sentire', 'Sentire'], ['Nexoon', 'Nexoon', 'Nexoon', 'Nexoon', 'Nexoon'], ['Mythron', 'Mythron', 'Mythron', 'Mythron', 'Mythron'], ['Cybex', 'Cybex', 'Cybex', 'Cybex'], ['Emotivor', 'Emotivor', 'Emotivor', 'Emotivor', 'Emotivor', 'Emotivor'], ['Aquari', 'Aquari', 'Aquari', 'Aquari', 'Aquari'], ['Sentire', 'Sentire', 'Sentire', 'Sentire', 'Sentire', 'Sentire'], ['Quixnar', 'Aquari', 'Zorblax'], ['Florian', 'Florian', 'Florian', 'Florian'], ['Emotivor', 'Emotivor', 'Emotivor', 'Emotivor'], ['Mythron', 'Mythron', 'Mythron'], ['Aquari', 'Aquari', 'Aquari', 'Aquari', 'Aquari'], ['Nexoon', 'Nexoon', 'Nexoon', 'Nexoon', 'Nexoon', 'Nexoon', 'Aquari'], ['Aquari', 'Aquari', 'Florian'], ['Cybex', 'Aquari', 'Nexoon', 'Cybex'], ['Aquari', 'Aquari', 'Aquari'], ['Emotivor', 'Emotivor', 'Emotivor', 'Emotivor', 'Emotivor', 'Emotivor', 'Emotivor', 'Emotivor'], ['Aquari', 'Aquari', 'Aquari', 'Aquari', 'Aquari'], ['Sentire', 'Sentire', 'Sentire', 'Sentire'], ['Aquari', 'Aquari', 'Aquari', 'Aquari', 'Aquari', 'Aquari'], ['Sentire', 'Sentire', 'Sentire', 'Sentire', 'Sentire', 'Sentire'], ['Florian', 'Florian', 'Florian', 'Florian', 'Florian', 'Florian', 'Florian', 'Florian'], ['Emotivor', 'Emotivor', 'Aquari', 'Emotivor', 'Emotivor'], ['Emotivor', 'Emotivor', 'Emotivor', 'Sentire'], ['Aquari', 'Aquari', 'Aquari', 'Aquari', 'Aquari', 'Aquari', 'Aquari'], ['Nexoon', 'Aquari', 'Nexoon', 'Nexoon', 'Aquari', 'Nexoon', 'Nexoon'], ['Cybex', 'Cybex', 'Cybex', 'Cybex', 'Cybex', 'Cybex', 'Cybex'], ['Nexoon', 'Nexoon', 'Nexoon'], ['Sentire', 'Emotivor', 'Emotivor', 'Emotivor', 'Emotivor'], ['Aquari', 'Aquari', 'Aquari'], ['Cybex', 'Cybex', 'Cybex', 'Cybex'], ['Mythron', 'Mythron', 'Mythron', 'Mythron', 'Mythron', 'Mythron'], ['Cybex', 'Cybex', 'Cybex', 'Cybex', 'Cybex', 'Cybex', 'Cybex', 'Cybex'], ['Mythron', 'Mythron', 'Mythron', 'Mythron', 'Mythron', 'Aquari', 'Mythron'], ['Sentire', 'Sentire', 'Sentire', 'Sentire', 'Quixnar', 'Sentire'], ['Zorblax', 'Zorblax', 'Zorblax', 'Zorblax', 'Zorblax'], ['Emotivor', 'Cybex', 'Emotivor', 'Emotivor'], ['Cybex', 'Cybex', 'Cybex', 'Cybex', 'Cybex', 'Cybex'], ['Sentire', 'Aquari', 'Quixnar', 'Sentire', 'Aquari', 'Sentire', 'Sentire'], ['Florian', 'Florian', 'Florian', 'Florian'], ['Sentire', 'Aquari', 'Sentire', 'Aquari', 'Sentire', 'Sentire'], ['Florian', 'Florian', 'Florian', 'Florian'], ['Emotivor', 'Emotivor', 'Emotivor', 'Emotivor'], ['Emotivor', 'Emotivor', 'Emotivor', 'Emotivor'], ['Quixnar', 'Quixnar', 'Aquari'], ['Aquari', 'Aquari', 'Aquari'], ['Faerix', 'Faerix', 'Faerix', 'Faerix', 'Faerix', 'Faerix', 'Faerix', 'Faerix'], ['Faerix', 'Faerix', 'Faerix', 'Faerix', 'Faerix', 'Faerix'], ['Aquari', 'Aquari', 'Aquari', 'Aquari'], ['Emotivor', 'Emotivor', 'Emotivor', 'Emotivor', 'Emotivor'], ['Cybex', 'Cybex', 'Aquari', 'Cybex'], ['Nexoon', 'Nexoon', 'Aquari', 'Nexoon'], ['Quixnar', 'Quixnar', 'Quixnar'], ['Sentire', 'Sentire', 'Sentire'], ['Zorblax', 'Zorblax', 'Zorblax', 'Zorblax', 'Zorblax', 'Zorblax', 'Mythron', 'Zorblax'], ['Mythron', 'Mythron', 'Mythron', 'Mythron', 'Mythron', 'Mythron', 'Mythron', 'Mythron'], ['Zorblax', 'Zorblax', 'Zorblax', 'Zorblax', 'Zorblax', 'Zorblax', 'Zorblax', 'Zorblax'], ['Cybex', 'Cybex', 'Cybex', 'Cybex', 'Cybex', 'Cybex', 'Cybex', 'Cybex'], ['Cybex', 'Cybex', 'Cybex', 'Cybex', 'Cybex', 'Cybex', 'Cybex'], ['Mythron', 'Mythron', 'Mythron', 'Mythron', 'Mythron', 'Mythron', 'Mythron'], ['Faerix', 'Faerix', 'Faerix'], ['Aquari', 'Aquari', 'Aquari', 'Aquari'], ['Nexoon', 'Nexoon', 'Nexoon', 'Nexoon', 'Nexoon', 'Nexoon', 'Nexoon', 'Nexoon'], ['Nexoon', 'Cybex', 'Aquari'], ['Faerix', 'Faerix', 'Faerix', 'Faerix'], ['Sentire', 'Sentire', 'Sentire', 'Zorblax', 'Sentire', 'Sentire', 'Sentire'], ['Florian', 'Florian', 'Florian', 'Florian', 'Florian', 'Aquari', 'Florian'], ['Mythron', 'Mythron', 'Mythron', 'Mythron'], ['Aquari', 'Cybex', 'Cybex', 'Cybex', 'Aquari'], ['Faerix', 'Faerix', 'Mythron', 'Aquari', 'Aquari', 'Mythron'], ['Aquari', 'Aquari', 'Aquari', 'Aquari', 'Aquari', 'Aquari', 'Aquari', 'Aquari'], ['Quixnar', 'Quixnar', 'Quixnar', 'Cybex', 'Quixnar', 'Aquari', 'Quixnar'], ['Faerix', 'Aquari', 'Faerix', 'Faerix', 'Faerix'], ['Mythron', 'Mythron', 'Mythron'], ['Mythron', 'Mythron', 'Mythron', 'Mythron', 'Mythron'], ['Zorblax', 'Zorblax', 'Zorblax', 'Zorblax', 'Zorblax'], ['Aquari', 'Nexoon', 'Nexoon', 'Aquari', 'Nexoon', 'Nexoon', 'Nexoon', 'Aquari'], ['Aquari', 'Aquari', 'Aquari', 'Aquari', 'Aquari', 'Aquari', 'Aquari', 'Aquari'], ['Emotivor', 'Emotivor', 'Emotivor', 'Emotivor', 'Emotivor', 'Emotivor', 'Emotivor'], ['Florian', 'Florian', 'Aquari', 'Florian', 'Aquari', 'Aquari', 'Florian'], ['Faerix', 'Faerix', 'Faerix', 'Faerix', 'Faerix', 'Faerix', 'Faerix'], ['Nexoon', 'Nexoon', 'Nexoon'], ['Nexoon', 'Nexoon', 'Nexoon', 'Nexoon', 'Nexoon', 'Nexoon'], ['Aquari', 'Aquari', 'Aquari', 'Aquari', 'Aquari', 'Aquari', 'Aquari'], ['Sentire', 'Aquari', 'Sentire', 'Sentire', 'Sentire', 'Sentire', 'Sentire', 'Sentire'], ['Nexoon', 'Nexoon', 'Nexoon'], ['Emotivor', 'Emotivor', 'Emotivor'], ['Florian', 'Florian', 'Florian', 'Florian'], ['Sentire', 'Sentire', 'Sentire', 'Sentire', 'Sentire'], ['Emotivor', 'Emotivor', 'Aquari', 'Emotivor', 'Emotivor'], ['Mythron', 'Mythron', 'Mythron', 'Sentire', 'Mythron', 'Mythron', 'Mythron', 'Mythron'], ['Aquari', 'Aquari', 'Aquari', 'Aquari', 'Aquari', 'Aquari', 'Aquari'], ['Cybex', 'Nexoon', 'Nexoon', 'Cybex', 'Nexoon', 'Aquari', 'Nexoon', 'Aquari'], ['Faerix', 'Faerix', 'Faerix', 'Faerix', 'Faerix', 'Faerix', 'Faerix', 'Faerix'], ['Quixnar', 'Quixnar', 'Quixnar', 'Quixnar', 'Quixnar', 'Quixnar', 'Quixnar', 'Quixnar'], ['Aquari', 'Aquari', 'Aquari', 'Aquari', 'Aquari', 'Aquari', 'Aquari'], ['Faerix', 'Faerix', 'Faerix', 'Aquari'], ['Aquari', 'Emotivor', 'Faerix', 'Faerix', 'Faerix'], ['Mythron', 'Mythron', 'Faerix', 'Mythron', 'Faerix', 'Mythron', 'Faerix', 'Faerix'], ['Cybex', 'Cybex', 'Cybex', 'Cybex', 'Cybex', 'Cybex', 'Cybex', 'Cybex'], ['Quixnar', 'Quixnar', 'Quixnar'], ['Faerix', 'Faerix', 'Faerix', 'Faerix', 'Faerix', 'Faerix', 'Faerix'], ['Zorblax', 'Zorblax', 'Aquari', 'Zorblax', 'Zorblax', 'Zorblax', 'Zorblax'], ['Quixnar', 'Quixnar', 'Quixnar', 'Quixnar', 'Quixnar', 'Quixnar', 'Quixnar'], ['Nexoon', 'Nexoon', 'Nexoon', 'Aquari', 'Nexoon', 'Nexoon', 'Aquari', 'Aquari'], ['Mythron', 'Mythron', 'Mythron', 'Aquari', 'Sentire', 'Mythron', 'Mythron', 'Mythron'], ['Sentire', 'Emotivor', 'Emotivor', 'Sentire'], ['Quixnar', 'Quixnar', 'Quixnar', 'Quixnar'], ['Florian', 'Florian', 'Florian', 'Florian', 'Florian'], ['Aquari', 'Florian', 'Florian', 'Florian', 'Florian', 'Florian', 'Florian', 'Florian'], ['Emotivor', 'Sentire', 'Faerix', 'Sentire', 'Sentire'], ['Florian', 'Emotivor', 'Florian', 'Florian', 'Aquari', 'Florian'], ['Aquari', 'Aquari', 'Aquari', 'Aquari'], ['Zorblax', 'Zorblax', 'Zorblax', 'Zorblax', 'Zorblax', 'Zorblax'], ['Nexoon', 'Nexoon', 'Cybex', 'Nexoon'], ['Florian', 'Florian', 'Florian'], ['Zorblax', 'Zorblax', 'Zorblax', 'Zorblax'], ['Quixnar', 'Quixnar', 'Quixnar'], ['Quixnar', 'Quixnar', 'Quixnar'], ['Aquari', 'Aquari', 'Aquari', 'Aquari', 'Aquari', 'Aquari', 'Aquari'], ['Faerix', 'Quixnar', 'Faerix', 'Faerix', 'Faerix'], ['Cybex', 'Cybex', 'Cybex', 'Cybex', 'Cybex', 'Cybex', 'Cybex', 'Cybex'], ['Zorblax', 'Quixnar', 'Quixnar', 'Quixnar', 'Zorblax', 'Zorblax', 'Aquari'], ['Mythron', 'Mythron', 'Aquari', 'Mythron', 'Mythron', 'Mythron', 'Mythron'], ['Faerix', 'Faerix', 'Faerix', 'Faerix', 'Faerix', 'Faerix', 'Faerix'], ['Zorblax', 'Zorblax', 'Zorblax', 'Zorblax', 'Zorblax', 'Zorblax', 'Zorblax'], ['Faerix', 'Faerix', 'Faerix', 'Faerix', 'Faerix'], ['Zorblax', 'Zorblax', 'Zorblax'], ['Mythron', 'Mythron', 'Mythron', 'Mythron', 'Mythron', 'Mythron', 'Mythron'], ['Nexoon', 'Nexoon', 'Nexoon', 'Nexoon', 'Nexoon', 'Nexoon', 'Aquari', 'Nexoon'], ['Florian', 'Florian', 'Florian', 'Florian', 'Florian'], ['Zorblax', 'Zorblax', 'Zorblax', 'Zorblax'], ['Zorblax', 'Zorblax', 'Zorblax'], ['Cybex', 'Cybex', 'Cybex', 'Cybex', 'Cybex', 'Cybex', 'Cybex'], ['Quixnar', 'Quixnar', 'Quixnar', 'Quixnar', 'Quixnar', 'Quixnar'], ['Emotivor', 'Emotivor', 'Emotivor', 'Emotivor'], ['Faerix', 'Faerix', 'Faerix', 'Faerix', 'Faerix', 'Faerix', 'Faerix', 'Faerix'], ['Faerix', 'Faerix', 'Faerix'], ['Zorblax', 'Aquari', 'Zorblax', 'Zorblax', 'Zorblax', 'Zorblax'], ['Zorblax', 'Zorblax', 'Zorblax'], ['Florian', 'Florian', 'Florian', 'Florian'], ['Cybex', 'Cybex', 'Cybex', 'Cybex'], ['Aquari', 'Aquari', 'Aquari', 'Aquari', 'Aquari'], ['Sentire', 'Sentire', 'Sentire', 'Sentire', 'Sentire', 'Sentire', 'Sentire'], ['Mythron', 'Mythron', 'Mythron', 'Mythron', 'Mythron', 'Sentire'], ['Sentire', 'Sentire', 'Sentire', 'Sentire', 'Sentire', 'Sentire', 'Sentire', 'Sentire'], ['Aquari', 'Aquari', 'Aquari', 'Aquari', 'Aquari', 'Aquari'], ['Emotivor', 'Emotivor', 'Emotivor', 'Emotivor', 'Emotivor', 'Emotivor'], ['Aquari', 'Aquari', 'Aquari', 'Aquari', 'Aquari', 'Aquari', 'Aquari', 'Aquari'], ['Cybex', 'Cybex', 'Cybex', 'Cybex', 'Cybex', 'Cybex'], ['Aquari', 'Aquari', 'Aquari', 'Aquari'], ['Aquari', 'Aquari', 'Aquari', 'Aquari', 'Aquari', 'Aquari', 'Aquari'], ['Cybex', 'Cybex', 'Cybex', 'Cybex', 'Cybex'], ['Faerix', 'Faerix', 'Faerix', 'Faerix'], ['Emotivor', 'Emotivor', 'Emotivor', 'Emotivor'], ['Emotivor', 'Emotivor', 'Emotivor', 'Emotivor', 'Emotivor', 'Emotivor', 'Emotivor'], ['Florian', 'Florian', 'Florian', 'Florian'], ['Aquari', 'Mythron', 'Mythron', 'Mythron', 'Mythron'], ['Nexoon', 'Nexoon', 'Aquari', 'Nexoon', 'Nexoon', 'Nexoon', 'Nexoon'], ['Faerix', 'Faerix', 'Faerix', 'Faerix'], ['Quixnar', 'Quixnar', 'Quixnar', 'Quixnar', 'Quixnar', 'Quixnar', 'Quixnar', 'Quixnar'], ['Emotivor', 'Emotivor', 'Emotivor', 'Emotivor', 'Emotivor']]\n"
          ]
        }
      ]
    },
    {
      "cell_type": "code",
      "source": [
        "print(final_species_sub)"
      ],
      "metadata": {
        "colab": {
          "base_uri": "https://localhost:8080/"
        },
        "id": "StnwBxIxjvRB",
        "outputId": "5d162354-b9ce-482e-f3ef-fec02280253d"
      },
      "execution_count": null,
      "outputs": [
        {
          "output_type": "stream",
          "name": "stdout",
          "text": [
            "['Aquari', 'Sentire', 'Aquari', 'Faerix', 'Mythron', 'Mythron', 'Faerix', 'Faerix', 'Emotivor', 'Florian', 'Mythron', 'Emotivor', 'Zorblax', 'Quixnar', 'Mythron', 'Aquari', 'Florian', 'Aquari', 'Aquari', 'Aquari', 'Zorblax', 'Emotivor', 'Quixnar', 'Nexoon', 'Mythron', 'Nexoon', 'Aquari', 'Sentire', 'Sentire', 'Mythron', 'Cybex', 'Emotivor', 'Mythron', 'Sentire', 'Faerix', 'Emotivor', 'Aquari', 'Florian', 'Aquari', 'Quixnar', 'Emotivor', 'Quixnar', 'Mythron', 'Nexoon', 'Aquari', 'Emotivor', 'Quixnar', 'Quixnar', 'Zorblax', 'Florian', 'Florian', 'Zorblax', 'Sentire', 'Quixnar', 'Emotivor', 'Emotivor', 'Sentire', 'Emotivor', 'Mythron', 'Nexoon', 'Cybex', 'Cybex', 'Faerix', 'Faerix', 'Sentire', 'Mythron', 'Sentire', 'Faerix', 'Nexoon', 'Quixnar', 'Quixnar', 'Emotivor', 'Sentire', 'Zorblax', 'Emotivor', 'Sentire', 'Cybex', 'Faerix', 'Aquari', 'Emotivor', 'Emotivor', 'Cybex', 'Emotivor', 'Aquari', 'Nexoon', 'Sentire', 'Faerix', 'Zorblax', 'Nexoon', 'Faerix', 'Sentire', 'Faerix', 'Nexoon', 'Quixnar', 'Sentire', 'Florian', 'Mythron', 'Nexoon', 'Emotivor', 'Aquari', 'Florian', 'Sentire', 'Sentire', 'Aquari', 'Nexoon', 'Quixnar', 'Aquari', 'Aquari', 'Quixnar', 'Emotivor', 'Emotivor', 'Mythron', 'Aquari', 'Mythron', 'Aquari', 'Faerix', 'Mythron', 'Cybex', 'Faerix', 'Quixnar', 'Mythron', 'Sentire', 'Cybex', 'Aquari', 'Quixnar', 'Florian', 'Cybex', 'Florian', 'Quixnar', 'Zorblax', 'Aquari', 'Quixnar', 'Faerix', 'Aquari', 'Sentire', 'Emotivor', 'Cybex', 'Sentire', 'Nexoon', 'Mythron', 'Cybex', 'Emotivor', 'Aquari', 'Sentire', 'Quixnar', 'Florian', 'Emotivor', 'Mythron', 'Aquari', 'Nexoon', 'Aquari', 'Cybex', 'Aquari', 'Emotivor', 'Aquari', 'Sentire', 'Aquari', 'Sentire', 'Florian', 'Emotivor', 'Emotivor', 'Aquari', 'Nexoon', 'Cybex', 'Nexoon', 'Emotivor', 'Aquari', 'Cybex', 'Mythron', 'Cybex', 'Mythron', 'Sentire', 'Zorblax', 'Emotivor', 'Cybex', 'Sentire', 'Florian', 'Sentire', 'Florian', 'Emotivor', 'Emotivor', 'Quixnar', 'Aquari', 'Faerix', 'Faerix', 'Aquari', 'Emotivor', 'Cybex', 'Nexoon', 'Quixnar', 'Sentire', 'Zorblax', 'Mythron', 'Zorblax', 'Cybex', 'Cybex', 'Mythron', 'Faerix', 'Aquari', 'Nexoon', 'Nexoon', 'Faerix', 'Sentire', 'Florian', 'Mythron', 'Cybex', 'Faerix', 'Aquari', 'Quixnar', 'Faerix', 'Mythron', 'Mythron', 'Zorblax', 'Nexoon', 'Aquari', 'Emotivor', 'Florian', 'Faerix', 'Nexoon', 'Nexoon', 'Aquari', 'Sentire', 'Nexoon', 'Emotivor', 'Florian', 'Sentire', 'Emotivor', 'Mythron', 'Aquari', 'Nexoon', 'Faerix', 'Quixnar', 'Aquari', 'Faerix', 'Faerix', 'Mythron', 'Cybex', 'Quixnar', 'Faerix', 'Zorblax', 'Quixnar', 'Nexoon', 'Mythron', 'Sentire', 'Quixnar', 'Florian', 'Florian', 'Sentire', 'Florian', 'Aquari', 'Zorblax', 'Nexoon', 'Florian', 'Zorblax', 'Quixnar', 'Quixnar', 'Aquari', 'Faerix', 'Cybex', 'Zorblax', 'Mythron', 'Faerix', 'Zorblax', 'Faerix', 'Zorblax', 'Mythron', 'Nexoon', 'Florian', 'Zorblax', 'Zorblax', 'Cybex', 'Quixnar', 'Emotivor', 'Faerix', 'Faerix', 'Zorblax', 'Zorblax', 'Florian', 'Cybex', 'Aquari', 'Sentire', 'Mythron', 'Sentire', 'Aquari', 'Emotivor', 'Aquari', 'Cybex', 'Aquari', 'Aquari', 'Cybex', 'Faerix', 'Emotivor', 'Emotivor', 'Florian', 'Mythron', 'Nexoon', 'Faerix', 'Quixnar', 'Emotivor']\n"
          ]
        }
      ]
    },
    {
      "cell_type": "code",
      "source": [
        "with open(\"results.csv\", 'w', newline='') as myfile:\n",
        "     wr = csv.writer(myfile, quoting=csv.QUOTE_ALL)\n",
        "     wr.writerow(['species'])\n",
        "     for i in range(len(test)):\n",
        "       wr.writerow([final_species_sub[i]])"
      ],
      "metadata": {
        "id": "vhqXjmTckROD"
      },
      "execution_count": null,
      "outputs": []
    }
  ]
}